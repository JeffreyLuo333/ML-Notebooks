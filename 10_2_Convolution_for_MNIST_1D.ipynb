{
  "nbformat": 4,
  "nbformat_minor": 0,
  "metadata": {
    "colab": {
      "provenance": [],
      "include_colab_link": true
    },
    "kernelspec": {
      "name": "python3",
      "display_name": "Python 3"
    },
    "language_info": {
      "name": "python"
    }
  },
  "cells": [
    {
      "cell_type": "markdown",
      "metadata": {
        "id": "view-in-github",
        "colab_type": "text"
      },
      "source": [
        "<a href=\"https://colab.research.google.com/github/JeffreyLuo333/ML-Notebooks/blob/main/10_2_Convolution_for_MNIST_1D.ipynb\" target=\"_parent\"><img src=\"https://colab.research.google.com/assets/colab-badge.svg\" alt=\"Open In Colab\"/></a>"
      ]
    },
    {
      "cell_type": "markdown",
      "source": [
        "# **Notebook 10.2: Convolution for MNIST-1D**\n",
        "\n",
        "This notebook investigates a 1D convolutional network for MNIST-1D as in figure 10.7 and 10.8a.\n",
        "\n",
        "Work through the cells below, running each cell in turn. In various places you will see the words \"TO DO\". Follow the instructions at these places and make predictions about what is going to happen or write code to complete the functions.\n",
        "\n",
        "Contact me at udlbookmail@gmail.com if you find any mistakes or have any suggestions.\n",
        "\n"
      ],
      "metadata": {
        "id": "t9vk9Elugvmi"
      }
    },
    {
      "cell_type": "code",
      "source": [
        "# Run this if you're in a Colab to install MNIST 1D repository\n",
        "!pip install git+https://github.com/greydanus/mnist1d"
      ],
      "metadata": {
        "id": "D5yLObtZCi9J",
        "colab": {
          "base_uri": "https://localhost:8080/"
        },
        "outputId": "e5aee743-844f-4967-9e01-877ddaa9c5b9"
      },
      "execution_count": 1,
      "outputs": [
        {
          "output_type": "stream",
          "name": "stdout",
          "text": [
            "Collecting git+https://github.com/greydanus/mnist1d\n",
            "  Cloning https://github.com/greydanus/mnist1d to /tmp/pip-req-build-ujpnuz_k\n",
            "  Running command git clone --filter=blob:none --quiet https://github.com/greydanus/mnist1d /tmp/pip-req-build-ujpnuz_k\n",
            "  Resolved https://github.com/greydanus/mnist1d to commit 7878d96082abd200c546a07a4101fa90b30fdf7e\n",
            "  Installing build dependencies ... \u001b[?25l\u001b[?25hdone\n",
            "  Getting requirements to build wheel ... \u001b[?25l\u001b[?25hdone\n",
            "  Preparing metadata (pyproject.toml) ... \u001b[?25l\u001b[?25hdone\n",
            "Requirement already satisfied: requests in /usr/local/lib/python3.10/dist-packages (from mnist1d==0.0.2.post16) (2.32.3)\n",
            "Requirement already satisfied: numpy in /usr/local/lib/python3.10/dist-packages (from mnist1d==0.0.2.post16) (1.26.4)\n",
            "Requirement already satisfied: matplotlib in /usr/local/lib/python3.10/dist-packages (from mnist1d==0.0.2.post16) (3.7.1)\n",
            "Requirement already satisfied: scipy in /usr/local/lib/python3.10/dist-packages (from mnist1d==0.0.2.post16) (1.13.1)\n",
            "Requirement already satisfied: contourpy>=1.0.1 in /usr/local/lib/python3.10/dist-packages (from matplotlib->mnist1d==0.0.2.post16) (1.3.0)\n",
            "Requirement already satisfied: cycler>=0.10 in /usr/local/lib/python3.10/dist-packages (from matplotlib->mnist1d==0.0.2.post16) (0.12.1)\n",
            "Requirement already satisfied: fonttools>=4.22.0 in /usr/local/lib/python3.10/dist-packages (from matplotlib->mnist1d==0.0.2.post16) (4.54.1)\n",
            "Requirement already satisfied: kiwisolver>=1.0.1 in /usr/local/lib/python3.10/dist-packages (from matplotlib->mnist1d==0.0.2.post16) (1.4.7)\n",
            "Requirement already satisfied: packaging>=20.0 in /usr/local/lib/python3.10/dist-packages (from matplotlib->mnist1d==0.0.2.post16) (24.1)\n",
            "Requirement already satisfied: pillow>=6.2.0 in /usr/local/lib/python3.10/dist-packages (from matplotlib->mnist1d==0.0.2.post16) (10.4.0)\n",
            "Requirement already satisfied: pyparsing>=2.3.1 in /usr/local/lib/python3.10/dist-packages (from matplotlib->mnist1d==0.0.2.post16) (3.1.4)\n",
            "Requirement already satisfied: python-dateutil>=2.7 in /usr/local/lib/python3.10/dist-packages (from matplotlib->mnist1d==0.0.2.post16) (2.8.2)\n",
            "Requirement already satisfied: charset-normalizer<4,>=2 in /usr/local/lib/python3.10/dist-packages (from requests->mnist1d==0.0.2.post16) (3.4.0)\n",
            "Requirement already satisfied: idna<4,>=2.5 in /usr/local/lib/python3.10/dist-packages (from requests->mnist1d==0.0.2.post16) (3.10)\n",
            "Requirement already satisfied: urllib3<3,>=1.21.1 in /usr/local/lib/python3.10/dist-packages (from requests->mnist1d==0.0.2.post16) (2.2.3)\n",
            "Requirement already satisfied: certifi>=2017.4.17 in /usr/local/lib/python3.10/dist-packages (from requests->mnist1d==0.0.2.post16) (2024.8.30)\n",
            "Requirement already satisfied: six>=1.5 in /usr/local/lib/python3.10/dist-packages (from python-dateutil>=2.7->matplotlib->mnist1d==0.0.2.post16) (1.16.0)\n",
            "Building wheels for collected packages: mnist1d\n",
            "  Building wheel for mnist1d (pyproject.toml) ... \u001b[?25l\u001b[?25hdone\n",
            "  Created wheel for mnist1d: filename=mnist1d-0.0.2.post16-py3-none-any.whl size=14625 sha256=0727b70327126721f35e545090f782b66c9465647bd905b34e84a789bd0b12c1\n",
            "  Stored in directory: /tmp/pip-ephem-wheel-cache-cdv7afcf/wheels/41/95/55/45fcf7d38cfa97e35682da6c5017d4513729131326ce935371\n",
            "Successfully built mnist1d\n",
            "Installing collected packages: mnist1d\n",
            "Successfully installed mnist1d-0.0.2.post16\n"
          ]
        }
      ]
    },
    {
      "cell_type": "code",
      "source": [
        "import numpy as np\n",
        "import os\n",
        "import torch, torch.nn as nn\n",
        "from torch.utils.data import TensorDataset, DataLoader\n",
        "from torch.optim.lr_scheduler import StepLR\n",
        "import matplotlib.pyplot as plt\n",
        "import mnist1d\n",
        "import random"
      ],
      "metadata": {
        "id": "YrXWAH7sUWvU"
      },
      "execution_count": 2,
      "outputs": []
    },
    {
      "cell_type": "code",
      "source": [
        "args = mnist1d.data.get_dataset_args()\n",
        "data = mnist1d.data.get_dataset(args, path='./mnist1d_data.pkl', download=False, regenerate=False)\n",
        "\n",
        "# The training and test input and outputs are in\n",
        "# data['x'], data['y'], data['x_test'], and data['y_test']\n",
        "print(\"Examples in training set: {}\".format(len(data['y'])))\n",
        "print(\"Examples in test set: {}\".format(len(data['y_test'])))\n",
        "print(\"Length of each example: {}\".format(data['x'].shape[-1]))"
      ],
      "metadata": {
        "id": "twI72ZCrCt5z",
        "colab": {
          "base_uri": "https://localhost:8080/"
        },
        "outputId": "54582659-85e8-4c21-89cd-60c5d79c8dcb"
      },
      "execution_count": 3,
      "outputs": [
        {
          "output_type": "stream",
          "name": "stdout",
          "text": [
            "Did or could not load data from ./mnist1d_data.pkl. Rebuilding dataset...\n",
            "Examples in training set: 4000\n",
            "Examples in test set: 1000\n",
            "Length of each example: 40\n"
          ]
        }
      ]
    },
    {
      "cell_type": "code",
      "source": [
        "# Load in the data\n",
        "train_data_x = data['x'].transpose()\n",
        "train_data_y = data['y']\n",
        "val_data_x = data['x_test'].transpose()\n",
        "val_data_y = data['y_test']\n",
        "# Print out sizes\n",
        "print(\"Train data: %d examples (columns), each of which has %d dimensions (rows)\"%((train_data_x.shape[1],train_data_x.shape[0])))\n",
        "print(\"Validation data: %d examples (columns), each of which has %d dimensions (rows)\"%((val_data_x.shape[1],val_data_x.shape[0])))"
      ],
      "metadata": {
        "id": "8bKADvLHbiV5",
        "colab": {
          "base_uri": "https://localhost:8080/"
        },
        "outputId": "0345d845-8a15-4cdf-a084-0bf150c42539"
      },
      "execution_count": 4,
      "outputs": [
        {
          "output_type": "stream",
          "name": "stdout",
          "text": [
            "Train data: 4000 examples (columns), each of which has 40 dimensions (rows)\n",
            "Validation data: 1000 examples (columns), each of which has 40 dimensions (rows)\n"
          ]
        }
      ]
    },
    {
      "cell_type": "markdown",
      "source": [
        "Define the network"
      ],
      "metadata": {
        "id": "_sFvRDGrl4qe"
      }
    },
    {
      "cell_type": "code",
      "source": [
        "# There are 40 input dimensions and 10 output dimensions for this data\n",
        "# The inputs correspond to the 40 offsets in the MNIST1D template.\n",
        "D_i = 40\n",
        "# The outputs correspond to the 10 digits\n",
        "D_o = 10\n",
        "\n",
        "\n",
        "# TODO Create a model with the following layers\n",
        "# 1. Convolutional layer, (input=length 40 and 1 channel, kernel size 3, stride 2, padding=\"valid\", 15 output channels )\n",
        "# 2. ReLU\n",
        "# 3. Convolutional layer, (input=length 19 and 15 channels, kernel size 3, stride 2, padding=\"valid\", 15 output channels )\n",
        "# 4. ReLU\n",
        "# 5. Convolutional layer, (input=length 9 and 15 channels, kernel size 3, stride 2, padding=\"valid\", 15 output channels)\n",
        "# 6. ReLU\n",
        "# 7. Flatten (converts 4x15) to length 60\n",
        "# 8. Linear layer (input size = 60, output size = 10)\n",
        "# References:\n",
        "# https://pytorch.org/docs/1.13/generated/torch.nn.Conv1d.html?highlight=conv1d#torch.nn.Conv1d\n",
        "# https://pytorch.org/docs/stable/generated/torch.nn.Flatten.html\n",
        "# https://pytorch.org/docs/1.13/generated/torch.nn.Linear.html?highlight=linear#torch.nn.Linear\n",
        "\n",
        "# NOTE THAT THE CONVOLUTIONAL LAYERS NEED TO TAKE THE NUMBER OF INPUT CHANNELS AS A PARAMETER\n",
        "# AND NOT THE INPUT SIZE.\n",
        "\n",
        "# Replace the following function:\n",
        "model = nn.Sequential(\n",
        "nn.Conv1d(1, 15,3, 2, padding = \"valid\"),\n",
        "nn.ReLU(),\n",
        "nn.Conv1d(15,15,3,2,padding = \"valid\"),\n",
        "nn.ReLU(),\n",
        "nn.Conv1d(15,15,3,2,padding=\"valid\"),\n",
        "nn.ReLU(),\n",
        "nn.Flatten(),\n",
        "nn.Linear(60, 10),\n",
        ")\n",
        "\n",
        "\n",
        "\n"
      ],
      "metadata": {
        "id": "FslroPJJffrh"
      },
      "execution_count": 13,
      "outputs": []
    },
    {
      "cell_type": "code",
      "source": [
        "# He initialization of weights\n",
        "def weights_init(layer_in):\n",
        "  if isinstance(layer_in, nn.Linear):\n",
        "    nn.init.kaiming_uniform_(layer_in.weight)\n",
        "    layer_in.bias.data.fill_(0.0)"
      ],
      "metadata": {
        "id": "YgLaex1pfhqz"
      },
      "execution_count": 14,
      "outputs": []
    },
    {
      "cell_type": "code",
      "source": [
        "# choose cross entropy loss function (equation 5.24 in the loss notes)\n",
        "loss_function = nn.CrossEntropyLoss()\n",
        "# construct SGD optimizer and initialize learning rate and momentum\n",
        "optimizer = torch.optim.SGD(model.parameters(), lr = 0.05, momentum=0.9)\n",
        "# object that decreases learning rate by half every 20 epochs\n",
        "scheduler = StepLR(optimizer, step_size=20, gamma=0.5)\n",
        "# create 100 dummy data points and store in data loader class\n",
        "x_train = torch.tensor(train_data_x.transpose().astype('float32'))\n",
        "y_train = torch.tensor(train_data_y.astype('long')).long()\n",
        "x_val= torch.tensor(val_data_x.transpose().astype('float32'))\n",
        "y_val = torch.tensor(val_data_y.astype('long')).long()\n",
        "\n",
        "# load the data into a class that creates the batches\n",
        "data_loader = DataLoader(TensorDataset(x_train,y_train), batch_size=100, shuffle=True, worker_init_fn=np.random.seed(1))\n",
        "\n",
        "# Initialize model weights\n",
        "model.apply(weights_init)\n",
        "\n",
        "# loop over the dataset n_epoch times\n",
        "n_epoch = 100\n",
        "# store the loss and the % correct at each epoch\n",
        "losses_train = np.zeros((n_epoch))\n",
        "errors_train = np.zeros((n_epoch))\n",
        "losses_val = np.zeros((n_epoch))\n",
        "errors_val = np.zeros((n_epoch))\n",
        "\n",
        "for epoch in range(n_epoch):\n",
        "  # loop over batches\n",
        "  for i, data in enumerate(data_loader):\n",
        "    # retrieve inputs and labels for this batch\n",
        "    x_batch, y_batch = data\n",
        "    # zero the parameter gradients\n",
        "    optimizer.zero_grad()\n",
        "    # forward pass -- calculate model output\n",
        "    pred = model(x_batch[:,None,:])\n",
        "    # compute the loss\n",
        "    loss = loss_function(pred, y_batch)\n",
        "    # backward pass\n",
        "    loss.backward()\n",
        "    # SGD update\n",
        "    optimizer.step()\n",
        "\n",
        "  # Run whole dataset to get statistics -- normally wouldn't do this\n",
        "  pred_train = model(x_train[:,None,:])\n",
        "  pred_val = model(x_val[:,None,:])\n",
        "  _, predicted_train_class = torch.max(pred_train.data, 1)\n",
        "  _, predicted_val_class = torch.max(pred_val.data, 1)\n",
        "  errors_train[epoch] = 100 - 100 * (predicted_train_class == y_train).float().sum() / len(y_train)\n",
        "  errors_val[epoch]= 100 - 100 * (predicted_val_class == y_val).float().sum() / len(y_val)\n",
        "  losses_train[epoch] = loss_function(pred_train, y_train).item()\n",
        "  losses_val[epoch]= loss_function(pred_val, y_val).item()\n",
        "  print(f'Epoch {epoch:5d}, train loss {losses_train[epoch]:.6f}, train error {errors_train[epoch]:3.2f},  val loss {losses_val[epoch]:.6f}, percent error {errors_val[epoch]:3.2f}')\n",
        "\n",
        "  # tell scheduler to consider updating learning rate\n",
        "  scheduler.step()\n",
        "\n",
        "# Plot the results\n",
        "fig, ax = plt.subplots()\n",
        "ax.plot(errors_train,'r-',label='train')\n",
        "ax.plot(errors_val,'b-',label='validation')\n",
        "ax.set_ylim(0,100); ax.set_xlim(0,n_epoch)\n",
        "ax.set_xlabel('Epoch'); ax.set_ylabel('Error')\n",
        "ax.set_title('Part I: Validation Result %3.2f'%(errors_val[-1]))\n",
        "ax.legend()\n",
        "plt.show()"
      ],
      "metadata": {
        "id": "NYw8I_3mmX5c",
        "colab": {
          "base_uri": "https://localhost:8080/",
          "height": 1000
        },
        "outputId": "101810ad-7af3-4c48-f524-df7e692bb5f0"
      },
      "execution_count": 15,
      "outputs": [
        {
          "output_type": "stream",
          "name": "stdout",
          "text": [
            "Epoch     0, train loss 1.911753, train error 77.75,  val loss 1.939228, percent error 79.90\n",
            "Epoch     1, train loss 1.512777, train error 62.05,  val loss 1.539007, percent error 63.20\n",
            "Epoch     2, train loss 1.352304, train error 54.42,  val loss 1.377554, percent error 57.20\n",
            "Epoch     3, train loss 1.238550, train error 50.33,  val loss 1.265052, percent error 53.70\n",
            "Epoch     4, train loss 1.196286, train error 49.65,  val loss 1.239585, percent error 51.90\n",
            "Epoch     5, train loss 1.044480, train error 42.55,  val loss 1.070531, percent error 45.70\n",
            "Epoch     6, train loss 0.931556, train error 36.22,  val loss 0.973125, percent error 40.50\n",
            "Epoch     7, train loss 0.880812, train error 35.62,  val loss 0.925755, percent error 38.30\n",
            "Epoch     8, train loss 0.765258, train error 29.45,  val loss 0.801876, percent error 32.20\n",
            "Epoch     9, train loss 0.699415, train error 27.78,  val loss 0.756545, percent error 29.00\n",
            "Epoch    10, train loss 0.623236, train error 24.43,  val loss 0.687062, percent error 26.40\n",
            "Epoch    11, train loss 0.588615, train error 22.80,  val loss 0.683513, percent error 25.70\n",
            "Epoch    12, train loss 0.521200, train error 19.70,  val loss 0.620057, percent error 24.00\n",
            "Epoch    13, train loss 0.473894, train error 17.90,  val loss 0.592200, percent error 22.20\n",
            "Epoch    14, train loss 0.461825, train error 17.90,  val loss 0.574079, percent error 21.80\n",
            "Epoch    15, train loss 0.452770, train error 16.47,  val loss 0.582933, percent error 19.80\n",
            "Epoch    16, train loss 0.333158, train error 11.93,  val loss 0.461037, percent error 16.60\n",
            "Epoch    17, train loss 0.285874, train error 9.35,  val loss 0.410186, percent error 13.80\n",
            "Epoch    18, train loss 0.326293, train error 10.68,  val loss 0.450285, percent error 14.90\n",
            "Epoch    19, train loss 0.252897, train error 8.55,  val loss 0.403281, percent error 13.90\n",
            "Epoch    20, train loss 0.201474, train error 6.30,  val loss 0.354956, percent error 12.20\n",
            "Epoch    21, train loss 0.199010, train error 6.55,  val loss 0.359635, percent error 11.60\n",
            "Epoch    22, train loss 0.168918, train error 4.82,  val loss 0.340063, percent error 11.00\n",
            "Epoch    23, train loss 0.170446, train error 5.30,  val loss 0.357143, percent error 11.60\n",
            "Epoch    24, train loss 0.160288, train error 4.93,  val loss 0.348452, percent error 10.50\n",
            "Epoch    25, train loss 0.174462, train error 5.72,  val loss 0.389017, percent error 12.30\n",
            "Epoch    26, train loss 0.142724, train error 4.45,  val loss 0.355721, percent error 11.40\n",
            "Epoch    27, train loss 0.131425, train error 4.05,  val loss 0.346086, percent error 9.70\n",
            "Epoch    28, train loss 0.150259, train error 5.00,  val loss 0.354898, percent error 11.10\n",
            "Epoch    29, train loss 0.121127, train error 3.80,  val loss 0.328483, percent error 9.90\n",
            "Epoch    30, train loss 0.130579, train error 4.05,  val loss 0.339500, percent error 10.50\n",
            "Epoch    31, train loss 0.116223, train error 3.25,  val loss 0.358242, percent error 11.00\n",
            "Epoch    32, train loss 0.129538, train error 4.45,  val loss 0.358131, percent error 11.10\n",
            "Epoch    33, train loss 0.119555, train error 3.78,  val loss 0.373236, percent error 11.30\n",
            "Epoch    34, train loss 0.113478, train error 3.82,  val loss 0.350963, percent error 9.80\n",
            "Epoch    35, train loss 0.118704, train error 4.20,  val loss 0.344506, percent error 9.70\n",
            "Epoch    36, train loss 0.115364, train error 3.93,  val loss 0.372157, percent error 10.40\n",
            "Epoch    37, train loss 0.126271, train error 4.20,  val loss 0.399004, percent error 10.80\n",
            "Epoch    38, train loss 0.100459, train error 3.30,  val loss 0.392243, percent error 11.00\n",
            "Epoch    39, train loss 0.095274, train error 3.07,  val loss 0.361826, percent error 10.50\n",
            "Epoch    40, train loss 0.065439, train error 1.62,  val loss 0.361632, percent error 9.50\n",
            "Epoch    41, train loss 0.064984, train error 1.78,  val loss 0.363320, percent error 9.40\n",
            "Epoch    42, train loss 0.059944, train error 1.50,  val loss 0.367289, percent error 9.20\n",
            "Epoch    43, train loss 0.059299, train error 1.55,  val loss 0.368956, percent error 9.20\n",
            "Epoch    44, train loss 0.058450, train error 1.35,  val loss 0.373251, percent error 9.20\n",
            "Epoch    45, train loss 0.054983, train error 1.38,  val loss 0.370366, percent error 9.20\n",
            "Epoch    46, train loss 0.056132, train error 1.28,  val loss 0.385341, percent error 9.40\n",
            "Epoch    47, train loss 0.053807, train error 1.28,  val loss 0.382612, percent error 9.30\n",
            "Epoch    48, train loss 0.056513, train error 1.35,  val loss 0.390634, percent error 10.00\n",
            "Epoch    49, train loss 0.052897, train error 1.32,  val loss 0.381754, percent error 9.20\n",
            "Epoch    50, train loss 0.050305, train error 1.25,  val loss 0.394025, percent error 9.20\n",
            "Epoch    51, train loss 0.045967, train error 0.95,  val loss 0.376462, percent error 9.00\n",
            "Epoch    52, train loss 0.045998, train error 0.95,  val loss 0.398882, percent error 9.20\n",
            "Epoch    53, train loss 0.044680, train error 0.88,  val loss 0.392119, percent error 9.20\n",
            "Epoch    54, train loss 0.041787, train error 0.70,  val loss 0.390131, percent error 8.80\n",
            "Epoch    55, train loss 0.043889, train error 1.00,  val loss 0.398467, percent error 9.00\n",
            "Epoch    56, train loss 0.041753, train error 0.82,  val loss 0.407368, percent error 9.30\n",
            "Epoch    57, train loss 0.049422, train error 1.38,  val loss 0.427005, percent error 9.50\n",
            "Epoch    58, train loss 0.038641, train error 0.65,  val loss 0.404326, percent error 9.00\n",
            "Epoch    59, train loss 0.036404, train error 0.65,  val loss 0.409162, percent error 8.70\n",
            "Epoch    60, train loss 0.035070, train error 0.53,  val loss 0.412737, percent error 9.10\n",
            "Epoch    61, train loss 0.035362, train error 0.53,  val loss 0.413404, percent error 9.00\n",
            "Epoch    62, train loss 0.033627, train error 0.53,  val loss 0.408806, percent error 9.00\n",
            "Epoch    63, train loss 0.033580, train error 0.50,  val loss 0.414062, percent error 9.50\n",
            "Epoch    64, train loss 0.033621, train error 0.50,  val loss 0.413880, percent error 9.00\n",
            "Epoch    65, train loss 0.032123, train error 0.45,  val loss 0.413038, percent error 8.90\n",
            "Epoch    66, train loss 0.031875, train error 0.50,  val loss 0.416599, percent error 9.20\n",
            "Epoch    67, train loss 0.031366, train error 0.43,  val loss 0.416509, percent error 8.80\n",
            "Epoch    68, train loss 0.032410, train error 0.57,  val loss 0.421455, percent error 8.90\n",
            "Epoch    69, train loss 0.031183, train error 0.40,  val loss 0.416946, percent error 9.10\n",
            "Epoch    70, train loss 0.031128, train error 0.45,  val loss 0.419726, percent error 8.80\n",
            "Epoch    71, train loss 0.030447, train error 0.32,  val loss 0.422919, percent error 9.20\n",
            "Epoch    72, train loss 0.029652, train error 0.30,  val loss 0.422500, percent error 8.80\n",
            "Epoch    73, train loss 0.031222, train error 0.45,  val loss 0.425090, percent error 8.60\n",
            "Epoch    74, train loss 0.029030, train error 0.32,  val loss 0.422952, percent error 9.00\n",
            "Epoch    75, train loss 0.028412, train error 0.32,  val loss 0.430829, percent error 9.00\n",
            "Epoch    76, train loss 0.028181, train error 0.25,  val loss 0.424427, percent error 9.00\n",
            "Epoch    77, train loss 0.028224, train error 0.25,  val loss 0.426592, percent error 8.80\n",
            "Epoch    78, train loss 0.027535, train error 0.35,  val loss 0.433675, percent error 8.60\n",
            "Epoch    79, train loss 0.026986, train error 0.32,  val loss 0.431083, percent error 8.80\n",
            "Epoch    80, train loss 0.026641, train error 0.28,  val loss 0.429455, percent error 8.90\n",
            "Epoch    81, train loss 0.026534, train error 0.30,  val loss 0.433060, percent error 9.00\n",
            "Epoch    82, train loss 0.026641, train error 0.25,  val loss 0.435935, percent error 9.00\n",
            "Epoch    83, train loss 0.026465, train error 0.28,  val loss 0.432504, percent error 9.10\n",
            "Epoch    84, train loss 0.026342, train error 0.28,  val loss 0.436147, percent error 9.00\n",
            "Epoch    85, train loss 0.025987, train error 0.25,  val loss 0.435291, percent error 8.90\n",
            "Epoch    86, train loss 0.025778, train error 0.25,  val loss 0.435004, percent error 9.00\n",
            "Epoch    87, train loss 0.025689, train error 0.28,  val loss 0.438567, percent error 8.90\n",
            "Epoch    88, train loss 0.025434, train error 0.22,  val loss 0.437393, percent error 9.00\n",
            "Epoch    89, train loss 0.025691, train error 0.30,  val loss 0.438908, percent error 8.90\n",
            "Epoch    90, train loss 0.025126, train error 0.22,  val loss 0.437774, percent error 9.00\n",
            "Epoch    91, train loss 0.025165, train error 0.22,  val loss 0.438830, percent error 9.10\n",
            "Epoch    92, train loss 0.024921, train error 0.28,  val loss 0.440004, percent error 8.90\n",
            "Epoch    93, train loss 0.024917, train error 0.20,  val loss 0.436550, percent error 9.10\n",
            "Epoch    94, train loss 0.024547, train error 0.28,  val loss 0.441588, percent error 8.90\n",
            "Epoch    95, train loss 0.024554, train error 0.20,  val loss 0.441377, percent error 8.90\n",
            "Epoch    96, train loss 0.024714, train error 0.22,  val loss 0.443697, percent error 8.90\n",
            "Epoch    97, train loss 0.024051, train error 0.22,  val loss 0.443861, percent error 9.00\n",
            "Epoch    98, train loss 0.023958, train error 0.22,  val loss 0.443948, percent error 8.90\n",
            "Epoch    99, train loss 0.023920, train error 0.20,  val loss 0.444200, percent error 9.00\n"
          ]
        },
        {
          "output_type": "display_data",
          "data": {
            "text/plain": [
              "<Figure size 640x480 with 1 Axes>"
            ],
            "image/png": "[encoded data removed]"
          },
          "metadata": {}
        }
      ]
    }
  ]
}