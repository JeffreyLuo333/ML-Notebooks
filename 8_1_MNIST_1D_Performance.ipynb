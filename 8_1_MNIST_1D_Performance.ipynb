{
  "cells": [
    {
      "cell_type": "markdown",
      "metadata": {
        "id": "view-in-github",
        "colab_type": "text"
      },
      "source": [
        "<a href=\"https://colab.research.google.com/github/JeffreyLuo333/ML-Notebooks/blob/main/8_1_MNIST_1D_Performance.ipynb\" target=\"_parent\"><img src=\"https://colab.research.google.com/assets/colab-badge.svg\" alt=\"Open In Colab\"/></a>"
      ]
    },
    {
      "cell_type": "markdown",
      "metadata": {
        "id": "L6chybAVFJW2"
      },
      "source": [
        "# **Notebook 8.1: MNIST_1D_Performance**\n",
        "\n",
        "This notebook runs a simple neural network on the MNIST1D dataset as in figure 8.2a. It uses code from https://github.com/greydanus/mnist1d to generate the data.\n",
        "\n",
        "Work through the cells below, running each cell in turn. In various places you will see the words \"TO DO\". Follow the instructions at these places and make predictions about what is going to happen or write code to complete the functions.\n",
        "\n",
        "Contact me at udlbookmail@gmail.com if you find any mistakes or have any suggestions."
      ]
    },
    {
      "cell_type": "code",
      "execution_count": 1,
      "metadata": {
        "id": "ifVjS4cTOqKz",
        "colab": {
          "base_uri": "https://localhost:8080/"
        },
        "outputId": "411c1dcb-f9f7-4802-fcdc-4dc1b181b7ad"
      },
      "outputs": [
        {
          "output_type": "stream",
          "name": "stdout",
          "text": [
            "Collecting git+https://github.com/greydanus/mnist1d\n",
            "  Cloning https://github.com/greydanus/mnist1d to /tmp/pip-req-build-mqz8fhjm\n",
            "  Running command git clone --filter=blob:none --quiet https://github.com/greydanus/mnist1d /tmp/pip-req-build-mqz8fhjm\n",
            "  Resolved https://github.com/greydanus/mnist1d to commit 7878d96082abd200c546a07a4101fa90b30fdf7e\n",
            "  Installing build dependencies ... \u001b[?25l\u001b[?25hdone\n",
            "  Getting requirements to build wheel ... \u001b[?25l\u001b[?25hdone\n",
            "  Preparing metadata (pyproject.toml) ... \u001b[?25l\u001b[?25hdone\n",
            "Requirement already satisfied: requests in /usr/local/lib/python3.10/dist-packages (from mnist1d==0.0.2.post16) (2.32.3)\n",
            "Requirement already satisfied: numpy in /usr/local/lib/python3.10/dist-packages (from mnist1d==0.0.2.post16) (1.26.4)\n",
            "Requirement already satisfied: matplotlib in /usr/local/lib/python3.10/dist-packages (from mnist1d==0.0.2.post16) (3.7.1)\n",
            "Requirement already satisfied: scipy in /usr/local/lib/python3.10/dist-packages (from mnist1d==0.0.2.post16) (1.13.1)\n",
            "Requirement already satisfied: contourpy>=1.0.1 in /usr/local/lib/python3.10/dist-packages (from matplotlib->mnist1d==0.0.2.post16) (1.3.0)\n",
            "Requirement already satisfied: cycler>=0.10 in /usr/local/lib/python3.10/dist-packages (from matplotlib->mnist1d==0.0.2.post16) (0.12.1)\n",
            "Requirement already satisfied: fonttools>=4.22.0 in /usr/local/lib/python3.10/dist-packages (from matplotlib->mnist1d==0.0.2.post16) (4.54.1)\n",
            "Requirement already satisfied: kiwisolver>=1.0.1 in /usr/local/lib/python3.10/dist-packages (from matplotlib->mnist1d==0.0.2.post16) (1.4.7)\n",
            "Requirement already satisfied: packaging>=20.0 in /usr/local/lib/python3.10/dist-packages (from matplotlib->mnist1d==0.0.2.post16) (24.1)\n",
            "Requirement already satisfied: pillow>=6.2.0 in /usr/local/lib/python3.10/dist-packages (from matplotlib->mnist1d==0.0.2.post16) (10.4.0)\n",
            "Requirement already satisfied: pyparsing>=2.3.1 in /usr/local/lib/python3.10/dist-packages (from matplotlib->mnist1d==0.0.2.post16) (3.1.4)\n",
            "Requirement already satisfied: python-dateutil>=2.7 in /usr/local/lib/python3.10/dist-packages (from matplotlib->mnist1d==0.0.2.post16) (2.8.2)\n",
            "Requirement already satisfied: charset-normalizer<4,>=2 in /usr/local/lib/python3.10/dist-packages (from requests->mnist1d==0.0.2.post16) (3.4.0)\n",
            "Requirement already satisfied: idna<4,>=2.5 in /usr/local/lib/python3.10/dist-packages (from requests->mnist1d==0.0.2.post16) (3.10)\n",
            "Requirement already satisfied: urllib3<3,>=1.21.1 in /usr/local/lib/python3.10/dist-packages (from requests->mnist1d==0.0.2.post16) (2.2.3)\n",
            "Requirement already satisfied: certifi>=2017.4.17 in /usr/local/lib/python3.10/dist-packages (from requests->mnist1d==0.0.2.post16) (2024.8.30)\n",
            "Requirement already satisfied: six>=1.5 in /usr/local/lib/python3.10/dist-packages (from python-dateutil>=2.7->matplotlib->mnist1d==0.0.2.post16) (1.16.0)\n",
            "Building wheels for collected packages: mnist1d\n",
            "  Building wheel for mnist1d (pyproject.toml) ... \u001b[?25l\u001b[?25hdone\n",
            "  Created wheel for mnist1d: filename=mnist1d-0.0.2.post16-py3-none-any.whl size=14626 sha256=4623c3ff6ed29616f2725e570f3cbc65108955724d5e2b63b0b8ae56af99ef78\n",
            "  Stored in directory: /tmp/pip-ephem-wheel-cache-w72ifhzi/wheels/41/95/55/45fcf7d38cfa97e35682da6c5017d4513729131326ce935371\n",
            "Successfully built mnist1d\n",
            "Installing collected packages: mnist1d\n",
            "Successfully installed mnist1d-0.0.2.post16\n"
          ]
        }
      ],
      "source": [
        "# Run this if you're in a Colab to install MNIST 1D repository\n",
        "%pip install git+https://github.com/greydanus/mnist1d"
      ]
    },
    {
      "cell_type": "code",
      "execution_count": 2,
      "metadata": {
        "id": "qyE7G1StPIqO"
      },
      "outputs": [],
      "source": [
        "import torch, torch.nn as nn\n",
        "from torch.utils.data import TensorDataset, DataLoader\n",
        "from torch.optim.lr_scheduler import StepLR\n",
        "import numpy as np\n",
        "import matplotlib.pyplot as plt\n",
        "import mnist1d"
      ]
    },
    {
      "cell_type": "markdown",
      "metadata": {
        "id": "F7LNq72SP6jO"
      },
      "source": [
        "Let's generate a training and test dataset using the MNIST1D code.  The dataset gets saved as a .pkl file so it doesn't have to be regenerated each time."
      ]
    },
    {
      "cell_type": "code",
      "execution_count": 3,
      "metadata": {
        "id": "YLxf7dJfPaqw",
        "colab": {
          "base_uri": "https://localhost:8080/"
        },
        "outputId": "1ff67f8d-d8da-4122-e3ce-e1df1caeeb7e"
      },
      "outputs": [
        {
          "output_type": "stream",
          "name": "stdout",
          "text": [
            "Did or could not load data from ./mnist1d_data.pkl. Rebuilding dataset...\n",
            "Examples in training set: 4000\n",
            "Examples in test set: 1000\n",
            "Length of each example: 40\n"
          ]
        }
      ],
      "source": [
        "args = mnist1d.data.get_dataset_args()\n",
        "data = mnist1d.data.get_dataset(args, path='./mnist1d_data.pkl', download=False, regenerate=False)\n",
        "\n",
        "# The training and test input and outputs are in\n",
        "# data['x'], data['y'], data['x_test'], and data['y_test']\n",
        "print(\"Examples in training set: {}\".format(len(data['y'])))\n",
        "print(\"Examples in test set: {}\".format(len(data['y_test'])))\n",
        "print(\"Length of each example: {}\".format(data['x'].shape[-1]))"
      ]
    },
    {
      "cell_type": "code",
      "execution_count": 7,
      "metadata": {
        "id": "FxaB5vc0uevl",
        "colab": {
          "base_uri": "https://localhost:8080/"
        },
        "outputId": "39222900-cbe1-4101-a4a4-ee38c33800af"
      },
      "outputs": [
        {
          "output_type": "stream",
          "name": "stdout",
          "text": [
            "Initializing layer\n",
            "Initializing layer\n",
            "Initializing layer\n",
            "Initializing layer\n",
            "Initializing layer\n",
            "Initializing layer\n",
            "Initializing layer\n",
            "Initializing layer\n"
          ]
        },
        {
          "output_type": "execute_result",
          "data": {
            "text/plain": [
              "Sequential(\n",
              "  (0): Linear(in_features=40, out_features=100, bias=True)\n",
              "  (1): ReLU()\n",
              "  (2): Linear(in_features=100, out_features=100, bias=True)\n",
              "  (3): ReLU()\n",
              "  (4): Linear(in_features=100, out_features=100, bias=True)\n",
              "  (5): ReLU()\n",
              "  (6): Linear(in_features=100, out_features=10, bias=True)\n",
              ")"
            ]
          },
          "metadata": {},
          "execution_count": 7
        }
      ],
      "source": [
        "D_i = 40    # Input dimensions\n",
        "D_k = 100   # Hidden dimensions\n",
        "D_o = 10    # Output dimensions\n",
        "# TO DO:\n",
        "# Define a model with two hidden layers of size 100\n",
        "# And ReLU activations between them\n",
        "# Replace this line (see Figure 7.8 of book for help):\n",
        "model = torch.nn.Sequential(torch.nn.Linear(D_i, D_k), nn.ReLU(),nn.Linear(D_k,D_k),nn.ReLU(),nn.Linear(D_k,D_k),nn.ReLU(),nn.Linear(D_k,D_o))\n",
        "\n",
        "\n",
        "\n",
        "def weights_init(layer_in):\n",
        "  # TO DO:\n",
        "  # Initialize the parameters with He initialization\n",
        "  # Replace this line (see figure 7.8 of book for help)\n",
        "  if isinstance(layer_in, nn.Linear):\n",
        "    nn.init.kaiming_normal_(layer_in.weight)\n",
        "    layer_in.bias.data.fill_(0.0)\n",
        "  print(\"Initializing layer\")\n",
        "\n",
        "\n",
        "# Call the function you just defined\n",
        "model.apply(weights_init)\n"
      ]
    },
    {
      "cell_type": "code",
      "execution_count": 8,
      "metadata": {
        "id": "_rX6N3VyyQTY",
        "colab": {
          "base_uri": "https://localhost:8080/"
        },
        "outputId": "2fa6eb58-a061-4ddd-d3e2-f0c4eb27081a"
      },
      "outputs": [
        {
          "output_type": "stream",
          "name": "stdout",
          "text": [
            "Initializing layer\n",
            "Initializing layer\n",
            "Initializing layer\n",
            "Initializing layer\n",
            "Initializing layer\n",
            "Initializing layer\n",
            "Initializing layer\n",
            "Initializing layer\n",
            "Epoch     0, train loss 1.606227, train error 63.30,  test loss 1.670060, test error 69.20\n",
            "Epoch     1, train loss 1.373383, train error 53.60,  test loss 1.499655, test error 61.00\n",
            "Epoch     2, train loss 1.189360, train error 45.70,  test loss 1.415475, test error 56.40\n",
            "Epoch     3, train loss 0.998827, train error 36.97,  test loss 1.282219, test error 49.30\n",
            "Epoch     4, train loss 0.872103, train error 31.32,  test loss 1.184693, test error 45.40\n",
            "Epoch     5, train loss 0.765036, train error 27.90,  test loss 1.185198, test error 44.20\n",
            "Epoch     6, train loss 0.646457, train error 23.22,  test loss 1.128158, test error 43.10\n",
            "Epoch     7, train loss 0.560865, train error 19.75,  test loss 1.196740, test error 43.40\n",
            "Epoch     8, train loss 0.495067, train error 17.18,  test loss 1.134123, test error 40.00\n",
            "Epoch     9, train loss 0.455927, train error 16.00,  test loss 1.315762, test error 43.20\n",
            "Epoch    10, train loss 0.253314, train error 6.25,  test loss 1.101902, test error 36.10\n",
            "Epoch    11, train loss 0.200292, train error 4.53,  test loss 1.123165, test error 35.10\n",
            "Epoch    12, train loss 0.182276, train error 4.20,  test loss 1.168234, test error 34.70\n",
            "Epoch    13, train loss 0.133343, train error 2.03,  test loss 1.231634, test error 34.80\n",
            "Epoch    14, train loss 0.122026, train error 2.47,  test loss 1.278514, test error 36.10\n",
            "Epoch    15, train loss 0.088504, train error 0.97,  test loss 1.242094, test error 34.20\n",
            "Epoch    16, train loss 0.075019, train error 0.68,  test loss 1.341179, test error 35.20\n",
            "Epoch    17, train loss 0.062421, train error 0.43,  test loss 1.382033, test error 35.10\n",
            "Epoch    18, train loss 0.048767, train error 0.15,  test loss 1.393887, test error 35.00\n",
            "Epoch    19, train loss 0.040101, train error 0.05,  test loss 1.453622, test error 34.70\n",
            "Epoch    20, train loss 0.032168, train error 0.03,  test loss 1.458391, test error 34.50\n",
            "Epoch    21, train loss 0.029184, train error 0.00,  test loss 1.490632, test error 34.50\n",
            "Epoch    22, train loss 0.027028, train error 0.00,  test loss 1.506003, test error 34.70\n",
            "Epoch    23, train loss 0.025359, train error 0.00,  test loss 1.531242, test error 35.00\n",
            "Epoch    24, train loss 0.023794, train error 0.00,  test loss 1.546455, test error 34.60\n",
            "Epoch    25, train loss 0.022230, train error 0.00,  test loss 1.559508, test error 34.70\n",
            "Epoch    26, train loss 0.020842, train error 0.00,  test loss 1.580857, test error 34.50\n",
            "Epoch    27, train loss 0.019621, train error 0.00,  test loss 1.589852, test error 34.80\n",
            "Epoch    28, train loss 0.018459, train error 0.00,  test loss 1.597358, test error 34.40\n",
            "Epoch    29, train loss 0.017827, train error 0.00,  test loss 1.621979, test error 34.90\n",
            "Epoch    30, train loss 0.016896, train error 0.00,  test loss 1.624784, test error 34.40\n",
            "Epoch    31, train loss 0.016404, train error 0.00,  test loss 1.629561, test error 34.40\n",
            "Epoch    32, train loss 0.016002, train error 0.00,  test loss 1.634230, test error 34.30\n",
            "Epoch    33, train loss 0.015609, train error 0.00,  test loss 1.646976, test error 34.30\n",
            "Epoch    34, train loss 0.015426, train error 0.00,  test loss 1.650963, test error 34.70\n",
            "Epoch    35, train loss 0.014908, train error 0.00,  test loss 1.656301, test error 34.50\n",
            "Epoch    36, train loss 0.014663, train error 0.00,  test loss 1.662276, test error 34.60\n",
            "Epoch    37, train loss 0.014251, train error 0.00,  test loss 1.669067, test error 34.60\n",
            "Epoch    38, train loss 0.013924, train error 0.00,  test loss 1.674242, test error 34.50\n",
            "Epoch    39, train loss 0.013617, train error 0.00,  test loss 1.681129, test error 34.40\n",
            "Epoch    40, train loss 0.013457, train error 0.00,  test loss 1.684697, test error 34.60\n",
            "Epoch    41, train loss 0.013313, train error 0.00,  test loss 1.685753, test error 34.60\n",
            "Epoch    42, train loss 0.013165, train error 0.00,  test loss 1.688195, test error 34.50\n",
            "Epoch    43, train loss 0.013037, train error 0.00,  test loss 1.691220, test error 34.40\n",
            "Epoch    44, train loss 0.012898, train error 0.00,  test loss 1.693455, test error 34.60\n",
            "Epoch    45, train loss 0.012767, train error 0.00,  test loss 1.697798, test error 34.50\n",
            "Epoch    46, train loss 0.012635, train error 0.00,  test loss 1.699005, test error 34.60\n",
            "Epoch    47, train loss 0.012517, train error 0.00,  test loss 1.701696, test error 34.50\n",
            "Epoch    48, train loss 0.012387, train error 0.00,  test loss 1.704742, test error 34.50\n",
            "Epoch    49, train loss 0.012260, train error 0.00,  test loss 1.707189, test error 34.40\n",
            "Epoch    50, train loss 0.012194, train error 0.00,  test loss 1.708438, test error 34.50\n",
            "Epoch    51, train loss 0.012134, train error 0.00,  test loss 1.709979, test error 34.60\n",
            "Epoch    52, train loss 0.012076, train error 0.00,  test loss 1.711737, test error 34.60\n",
            "Epoch    53, train loss 0.012016, train error 0.00,  test loss 1.712630, test error 34.50\n",
            "Epoch    54, train loss 0.011960, train error 0.00,  test loss 1.714157, test error 34.60\n",
            "Epoch    55, train loss 0.011900, train error 0.00,  test loss 1.716122, test error 34.60\n",
            "Epoch    56, train loss 0.011841, train error 0.00,  test loss 1.716176, test error 34.60\n",
            "Epoch    57, train loss 0.011787, train error 0.00,  test loss 1.718196, test error 34.40\n",
            "Epoch    58, train loss 0.011729, train error 0.00,  test loss 1.719482, test error 34.60\n",
            "Epoch    59, train loss 0.011673, train error 0.00,  test loss 1.720442, test error 34.40\n",
            "Epoch    60, train loss 0.011643, train error 0.00,  test loss 1.720930, test error 34.40\n",
            "Epoch    61, train loss 0.011615, train error 0.00,  test loss 1.721990, test error 34.50\n",
            "Epoch    62, train loss 0.011588, train error 0.00,  test loss 1.721955, test error 34.60\n",
            "Epoch    63, train loss 0.011561, train error 0.00,  test loss 1.722882, test error 34.40\n",
            "Epoch    64, train loss 0.011533, train error 0.00,  test loss 1.723567, test error 34.30\n",
            "Epoch    65, train loss 0.011506, train error 0.00,  test loss 1.724098, test error 34.40\n",
            "Epoch    66, train loss 0.011479, train error 0.00,  test loss 1.724845, test error 34.40\n",
            "Epoch    67, train loss 0.011453, train error 0.00,  test loss 1.725452, test error 34.30\n",
            "Epoch    68, train loss 0.011425, train error 0.00,  test loss 1.726224, test error 34.20\n",
            "Epoch    69, train loss 0.011398, train error 0.00,  test loss 1.726394, test error 34.50\n",
            "Epoch    70, train loss 0.011385, train error 0.00,  test loss 1.726835, test error 34.40\n",
            "Epoch    71, train loss 0.011372, train error 0.00,  test loss 1.727015, test error 34.40\n",
            "Epoch    72, train loss 0.011358, train error 0.00,  test loss 1.727426, test error 34.30\n",
            "Epoch    73, train loss 0.011345, train error 0.00,  test loss 1.727839, test error 34.30\n",
            "Epoch    74, train loss 0.011331, train error 0.00,  test loss 1.727996, test error 34.30\n",
            "Epoch    75, train loss 0.011318, train error 0.00,  test loss 1.728281, test error 34.40\n",
            "Epoch    76, train loss 0.011305, train error 0.00,  test loss 1.728656, test error 34.20\n",
            "Epoch    77, train loss 0.011292, train error 0.00,  test loss 1.729143, test error 34.30\n",
            "Epoch    78, train loss 0.011279, train error 0.00,  test loss 1.729288, test error 34.40\n",
            "Epoch    79, train loss 0.011266, train error 0.00,  test loss 1.729512, test error 34.20\n",
            "Epoch    80, train loss 0.011259, train error 0.00,  test loss 1.729754, test error 34.30\n",
            "Epoch    81, train loss 0.011253, train error 0.00,  test loss 1.729857, test error 34.30\n",
            "Epoch    82, train loss 0.011246, train error 0.00,  test loss 1.730077, test error 34.30\n",
            "Epoch    83, train loss 0.011240, train error 0.00,  test loss 1.730144, test error 34.30\n",
            "Epoch    84, train loss 0.011233, train error 0.00,  test loss 1.730307, test error 34.30\n",
            "Epoch    85, train loss 0.011227, train error 0.00,  test loss 1.730518, test error 34.20\n",
            "Epoch    86, train loss 0.011220, train error 0.00,  test loss 1.730542, test error 34.30\n",
            "Epoch    87, train loss 0.011214, train error 0.00,  test loss 1.730834, test error 34.30\n",
            "Epoch    88, train loss 0.011207, train error 0.00,  test loss 1.730932, test error 34.20\n",
            "Epoch    89, train loss 0.011201, train error 0.00,  test loss 1.731072, test error 34.30\n",
            "Epoch    90, train loss 0.011198, train error 0.00,  test loss 1.731148, test error 34.20\n",
            "Epoch    91, train loss 0.011194, train error 0.00,  test loss 1.731236, test error 34.40\n",
            "Epoch    92, train loss 0.011191, train error 0.00,  test loss 1.731308, test error 34.20\n",
            "Epoch    93, train loss 0.011188, train error 0.00,  test loss 1.731411, test error 34.20\n",
            "Epoch    94, train loss 0.011185, train error 0.00,  test loss 1.731467, test error 34.30\n",
            "Epoch    95, train loss 0.011182, train error 0.00,  test loss 1.731532, test error 34.30\n",
            "Epoch    96, train loss 0.011178, train error 0.00,  test loss 1.731631, test error 34.20\n",
            "Epoch    97, train loss 0.011175, train error 0.00,  test loss 1.731675, test error 34.40\n",
            "Epoch    98, train loss 0.011172, train error 0.00,  test loss 1.731716, test error 34.20\n",
            "Epoch    99, train loss 0.011169, train error 0.00,  test loss 1.731861, test error 34.30\n"
          ]
        }
      ],
      "source": [
        "# choose cross entropy loss function (equation 5.24)\n",
        "loss_function = torch.nn.CrossEntropyLoss()\n",
        "# construct SGD optimizer and initialize learning rate and momentum\n",
        "optimizer = torch.optim.SGD(model.parameters(), lr = 0.05, momentum=0.9)\n",
        "# object that decreases learning rate by half every 10 epochs\n",
        "scheduler = StepLR(optimizer, step_size=10, gamma=0.5)\n",
        "x_train = torch.tensor(data['x'].astype('float32'))\n",
        "y_train = torch.tensor(data['y'].transpose().astype('int64'))\n",
        "x_test= torch.tensor(data['x_test'].astype('float32'))\n",
        "y_test = torch.tensor(data['y_test'].astype('int64'))\n",
        "\n",
        "# load the data into a class that creates the batches\n",
        "data_loader = DataLoader(TensorDataset(x_train,y_train), batch_size=100, shuffle=True, worker_init_fn=np.random.seed(1))\n",
        "\n",
        "# Initialize model weights\n",
        "model.apply(weights_init)\n",
        "\n",
        "# loop over the dataset n_epoch times\n",
        "n_epoch = 100\n",
        "# store the loss and the % correct at each epoch\n",
        "losses_train = np.zeros((n_epoch))\n",
        "errors_train = np.zeros((n_epoch))\n",
        "losses_test = np.zeros((n_epoch))\n",
        "errors_test = np.zeros((n_epoch))\n",
        "\n",
        "for epoch in range(n_epoch):\n",
        "  # loop over batches\n",
        "  for i, batch in enumerate(data_loader):\n",
        "    # retrieve inputs and labels for this batch\n",
        "    x_batch, y_batch = batch\n",
        "    # zero the parameter gradients\n",
        "    optimizer.zero_grad()\n",
        "    # forward pass -- calculate model output\n",
        "    pred = model(x_batch)\n",
        "    # compute the loss\n",
        "    loss = loss_function(pred, y_batch)\n",
        "    # backward pass\n",
        "    loss.backward()\n",
        "    # SGD update\n",
        "    optimizer.step()\n",
        "\n",
        "  # Run whole dataset to get statistics -- normally wouldn't do this\n",
        "  pred_train = model(x_train)\n",
        "  pred_test = model(x_test)\n",
        "  _, predicted_train_class = torch.max(pred_train.data, 1)\n",
        "  _, predicted_test_class = torch.max(pred_test.data, 1)\n",
        "  errors_train[epoch] = 100 - 100 * (predicted_train_class == y_train).float().sum() / len(y_train)\n",
        "  errors_test[epoch]= 100 - 100 * (predicted_test_class == y_test).float().sum() / len(y_test)\n",
        "  losses_train[epoch] = loss_function(pred_train, y_train).item()\n",
        "  losses_test[epoch]= loss_function(pred_test, y_test).item()\n",
        "  print(f'Epoch {epoch:5d}, train loss {losses_train[epoch]:.6f}, train error {errors_train[epoch]:3.2f},  test loss {losses_test[epoch]:.6f}, test error {errors_test[epoch]:3.2f}')\n",
        "\n",
        "  # tell scheduler to consider updating learning rate\n",
        "  scheduler.step()"
      ]
    },
    {
      "cell_type": "code",
      "execution_count": 9,
      "metadata": {
        "id": "yI-l6kA_EH9G",
        "colab": {
          "base_uri": "https://localhost:8080/",
          "height": 927
        },
        "outputId": "a068871a-1884-4813-adec-ca31d61a7fbc"
      },
      "outputs": [
        {
          "output_type": "display_data",
          "data": {
            "text/plain": [
              "<Figure size 640x480 with 1 Axes>"
            ],
            "image/png": "[encoded data removed]"
          },
          "metadata": {}
        },
        {
          "output_type": "display_data",
          "data": {
            "text/plain": [
              "<Figure size 640x480 with 1 Axes>"
            ],
            "image/png": "[encoded data removed]"
          },
          "metadata": {}
        }
      ],
      "source": [
        "# Plot the results\n",
        "fig, ax = plt.subplots()\n",
        "ax.plot(errors_train,'r-',label='train')\n",
        "ax.plot(errors_test,'b-',label='test')\n",
        "ax.set_ylim(0,100); ax.set_xlim(0,n_epoch)\n",
        "ax.set_xlabel('Epoch'); ax.set_ylabel('Error')\n",
        "ax.set_title('TrainError %3.2f, Test Error %3.2f'%(errors_train[-1],errors_test[-1]))\n",
        "ax.legend()\n",
        "plt.show()\n",
        "\n",
        "# Plot the results\n",
        "fig, ax = plt.subplots()\n",
        "ax.plot(losses_train,'r-',label='train')\n",
        "ax.plot(losses_test,'b-',label='test')\n",
        "ax.set_xlim(0,n_epoch)\n",
        "ax.set_xlabel('Epoch'); ax.set_ylabel('Loss')\n",
        "ax.set_title('Train loss %3.2f, Test loss %3.2f'%(losses_train[-1],losses_test[-1]))\n",
        "ax.legend()\n",
        "plt.show()"
      ]
    },
    {
      "cell_type": "markdown",
      "metadata": {
        "id": "q-yT6re6GZS4"
      },
      "source": [
        "**TO DO**\n",
        "\n",
        "Play with the model -- try changing the number of layers, hidden units, learning rate, batch size, momentum or anything else you like.  See if you can improve the test results.\n",
        "\n",
        "Is it a good idea to optimize the hyperparameters in this way?  Will the final result be a good estimate of the true test performance?"
      ]
    }
  ],
  "metadata": {
    "accelerator": "GPU",
    "colab": {
      "gpuType": "T4",
      "provenance": [],
      "include_colab_link": true
    },
    "kernelspec": {
      "display_name": "Python 3",
      "name": "python3"
    },
    "language_info": {
      "name": "python"
    }
  },
  "nbformat": 4,
  "nbformat_minor": 0
}