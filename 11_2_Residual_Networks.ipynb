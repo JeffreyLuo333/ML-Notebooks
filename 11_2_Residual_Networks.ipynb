{
  "nbformat": 4,
  "nbformat_minor": 0,
  "metadata": {
    "colab": {
      "provenance": [],
      "include_colab_link": true
    },
    "kernelspec": {
      "name": "python3",
      "display_name": "Python 3"
    },
    "language_info": {
      "name": "python"
    }
  },
  "cells": [
    {
      "cell_type": "markdown",
      "metadata": {
        "id": "view-in-github",
        "colab_type": "text"
      },
      "source": [
        "<a href=\"https://colab.research.google.com/github/JeffreyLuo333/ML-Notebooks/blob/main/11_2_Residual_Networks.ipynb\" target=\"_parent\"><img src=\"https://colab.research.google.com/assets/colab-badge.svg\" alt=\"Open In Colab\"/></a>"
      ]
    },
    {
      "cell_type": "markdown",
      "source": [
        "# **Notebook 11.2: Residual Networks**\n",
        "\n",
        "This notebook adapts the networks for MNIST1D to use residual connections.\n",
        "\n",
        "Work through the cells below, running each cell in turn. In various places you will see the words \"TO DO\". Follow the instructions at these places and make predictions about what is going to happen or write code to complete the functions.\n",
        "\n",
        "Contact me at udlbookmail@gmail.com if you find any mistakes or have any suggestions.\n",
        "\n"
      ],
      "metadata": {
        "id": "t9vk9Elugvmi"
      }
    },
    {
      "cell_type": "code",
      "source": [
        "# Run this if you're in a Colab to install MNIST 1D repository\n",
        "!pip install git+https://github.com/greydanus/mnist1d"
      ],
      "metadata": {
        "id": "D5yLObtZCi9J",
        "colab": {
          "base_uri": "https://localhost:8080/"
        },
        "outputId": "83a35b91-1100-4f43-e60b-1cc53bc35342"
      },
      "execution_count": 1,
      "outputs": [
        {
          "output_type": "stream",
          "name": "stdout",
          "text": [
            "Collecting git+https://github.com/greydanus/mnist1d\n",
            "  Cloning https://github.com/greydanus/mnist1d to /tmp/pip-req-build-uegzyc07\n",
            "  Running command git clone --filter=blob:none --quiet https://github.com/greydanus/mnist1d /tmp/pip-req-build-uegzyc07\n",
            "  Resolved https://github.com/greydanus/mnist1d to commit 7878d96082abd200c546a07a4101fa90b30fdf7e\n",
            "  Installing build dependencies ... \u001b[?25l\u001b[?25hdone\n",
            "  Getting requirements to build wheel ... \u001b[?25l\u001b[?25hdone\n",
            "  Preparing metadata (pyproject.toml) ... \u001b[?25l\u001b[?25hdone\n",
            "Requirement already satisfied: requests in /usr/local/lib/python3.10/dist-packages (from mnist1d==0.0.2.post16) (2.32.3)\n",
            "Requirement already satisfied: numpy in /usr/local/lib/python3.10/dist-packages (from mnist1d==0.0.2.post16) (1.26.4)\n",
            "Requirement already satisfied: matplotlib in /usr/local/lib/python3.10/dist-packages (from mnist1d==0.0.2.post16) (3.7.1)\n",
            "Requirement already satisfied: scipy in /usr/local/lib/python3.10/dist-packages (from mnist1d==0.0.2.post16) (1.13.1)\n",
            "Requirement already satisfied: contourpy>=1.0.1 in /usr/local/lib/python3.10/dist-packages (from matplotlib->mnist1d==0.0.2.post16) (1.3.0)\n",
            "Requirement already satisfied: cycler>=0.10 in /usr/local/lib/python3.10/dist-packages (from matplotlib->mnist1d==0.0.2.post16) (0.12.1)\n",
            "Requirement already satisfied: fonttools>=4.22.0 in /usr/local/lib/python3.10/dist-packages (from matplotlib->mnist1d==0.0.2.post16) (4.54.1)\n",
            "Requirement already satisfied: kiwisolver>=1.0.1 in /usr/local/lib/python3.10/dist-packages (from matplotlib->mnist1d==0.0.2.post16) (1.4.7)\n",
            "Requirement already satisfied: packaging>=20.0 in /usr/local/lib/python3.10/dist-packages (from matplotlib->mnist1d==0.0.2.post16) (24.1)\n",
            "Requirement already satisfied: pillow>=6.2.0 in /usr/local/lib/python3.10/dist-packages (from matplotlib->mnist1d==0.0.2.post16) (10.4.0)\n",
            "Requirement already satisfied: pyparsing>=2.3.1 in /usr/local/lib/python3.10/dist-packages (from matplotlib->mnist1d==0.0.2.post16) (3.1.4)\n",
            "Requirement already satisfied: python-dateutil>=2.7 in /usr/local/lib/python3.10/dist-packages (from matplotlib->mnist1d==0.0.2.post16) (2.8.2)\n",
            "Requirement already satisfied: charset-normalizer<4,>=2 in /usr/local/lib/python3.10/dist-packages (from requests->mnist1d==0.0.2.post16) (3.4.0)\n",
            "Requirement already satisfied: idna<4,>=2.5 in /usr/local/lib/python3.10/dist-packages (from requests->mnist1d==0.0.2.post16) (3.10)\n",
            "Requirement already satisfied: urllib3<3,>=1.21.1 in /usr/local/lib/python3.10/dist-packages (from requests->mnist1d==0.0.2.post16) (2.2.3)\n",
            "Requirement already satisfied: certifi>=2017.4.17 in /usr/local/lib/python3.10/dist-packages (from requests->mnist1d==0.0.2.post16) (2024.8.30)\n",
            "Requirement already satisfied: six>=1.5 in /usr/local/lib/python3.10/dist-packages (from python-dateutil>=2.7->matplotlib->mnist1d==0.0.2.post16) (1.16.0)\n",
            "Building wheels for collected packages: mnist1d\n",
            "  Building wheel for mnist1d (pyproject.toml) ... \u001b[?25l\u001b[?25hdone\n",
            "  Created wheel for mnist1d: filename=mnist1d-0.0.2.post16-py3-none-any.whl size=14625 sha256=908e22f603173dba570f0b92fc8b4d3bc8e4aef436cf1e514b77d11381960e3c\n",
            "  Stored in directory: /tmp/pip-ephem-wheel-cache-xr3nqvkk/wheels/41/95/55/45fcf7d38cfa97e35682da6c5017d4513729131326ce935371\n",
            "Successfully built mnist1d\n",
            "Installing collected packages: mnist1d\n",
            "Successfully installed mnist1d-0.0.2.post16\n"
          ]
        }
      ]
    },
    {
      "cell_type": "code",
      "source": [
        "import numpy as np\n",
        "import os\n",
        "import torch, torch.nn as nn\n",
        "from torch.utils.data import TensorDataset, DataLoader\n",
        "from torch.optim.lr_scheduler import StepLR\n",
        "import matplotlib.pyplot as plt\n",
        "import mnist1d\n",
        "import random"
      ],
      "metadata": {
        "id": "YrXWAH7sUWvU"
      },
      "execution_count": 2,
      "outputs": []
    },
    {
      "cell_type": "code",
      "source": [
        "args = mnist1d.data.get_dataset_args()\n",
        "data = mnist1d.data.get_dataset(args, path='./mnist1d_data.pkl', download=False, regenerate=False)\n",
        "\n",
        "# The training and test input and outputs are in\n",
        "# data['x'], data['y'], data['x_test'], and data['y_test']\n",
        "print(\"Examples in training set: {}\".format(len(data['y'])))\n",
        "print(\"Examples in test set: {}\".format(len(data['y_test'])))\n",
        "print(\"Length of each example: {}\".format(data['x'].shape[-1]))"
      ],
      "metadata": {
        "id": "twI72ZCrCt5z",
        "colab": {
          "base_uri": "https://localhost:8080/"
        },
        "outputId": "a188ef70-8573-4bac-a90a-414351ca448c"
      },
      "execution_count": 3,
      "outputs": [
        {
          "output_type": "stream",
          "name": "stdout",
          "text": [
            "Did or could not load data from ./mnist1d_data.pkl. Rebuilding dataset...\n",
            "Examples in training set: 4000\n",
            "Examples in test set: 1000\n",
            "Length of each example: 40\n"
          ]
        }
      ]
    },
    {
      "cell_type": "code",
      "source": [
        "# Load in the data\n",
        "train_data_x = data['x'].transpose()\n",
        "train_data_y = data['y']\n",
        "val_data_x = data['x_test'].transpose()\n",
        "val_data_y = data['y_test']\n",
        "# Print out sizes\n",
        "print(\"Train data: %d examples (columns), each of which has %d dimensions (rows)\"%((train_data_x.shape[1],train_data_x.shape[0])))\n",
        "print(\"Validation data: %d examples (columns), each of which has %d dimensions (rows)\"%((val_data_x.shape[1],val_data_x.shape[0])))"
      ],
      "metadata": {
        "id": "8bKADvLHbiV5",
        "colab": {
          "base_uri": "https://localhost:8080/"
        },
        "outputId": "bb7ee91d-1c9e-4b22-b721-63d58ef751c2"
      },
      "execution_count": 4,
      "outputs": [
        {
          "output_type": "stream",
          "name": "stdout",
          "text": [
            "Train data: 4000 examples (columns), each of which has 40 dimensions (rows)\n",
            "Validation data: 1000 examples (columns), each of which has 40 dimensions (rows)\n"
          ]
        }
      ]
    },
    {
      "cell_type": "markdown",
      "source": [
        "Define the network"
      ],
      "metadata": {
        "id": "_sFvRDGrl4qe"
      }
    },
    {
      "cell_type": "code",
      "source": [
        "# There are 40 input dimensions and 10 output dimensions for this data\n",
        "# The inputs correspond to the 40 offsets in the MNIST1D template.\n",
        "D_i = 40\n",
        "# The outputs correspond to the 10 digits\n",
        "D_o = 10\n",
        "\n",
        "\n",
        "# We will adapt this model to have residual connections around the linear layers\n",
        "# This is the same model we used in practical 8.1, but we can't use the sequential\n",
        "# class for residual networks (which aren't strictly sequential).  Hence, I've rewritten\n",
        "# it as a model that inherits from a base class\n",
        "\n",
        "class ResidualNetwork(torch.nn.Module):\n",
        "  def __init__(self, input_size, output_size, hidden_size=100):\n",
        "    super(ResidualNetwork, self).__init__()\n",
        "    self.linear1 = nn.Linear(input_size, hidden_size)\n",
        "    self.linear2 = nn.Linear(hidden_size, hidden_size)\n",
        "    self.linear3 = nn.Linear(hidden_size, hidden_size)\n",
        "    self.linear4 = nn.Linear(hidden_size, output_size)\n",
        "    print(\"Initialized MLPBase model with {} parameters\".format(self.count_params()))\n",
        "\n",
        "  def count_params(self):\n",
        "    return sum([p.view(-1).shape[0] for p in self.parameters()])\n",
        "\n",
        "# TODO -- Add residual connections to this model\n",
        "# The order of operations within each block should similar to figure 11.5b\n",
        "# ie., linear1 first, ReLU+linear2 in first residual block, ReLU+linear3 in second residual block), linear4 at end\n",
        "# Replace this function\n",
        "  def forward(self, x):\n",
        "    h1 = self.linear1(x)\n",
        "    h2 = h1 + self.linear2(h1).relu()\n",
        "    h3 = h2 + self.linear3(h2).relu()\n",
        "    return self.linear4(h3)\n"
      ],
      "metadata": {
        "id": "FslroPJJffrh"
      },
      "execution_count": 18,
      "outputs": []
    },
    {
      "cell_type": "code",
      "source": [
        "# He initialization of weights\n",
        "def weights_init(layer_in):\n",
        "  if isinstance(layer_in, nn.Linear):\n",
        "    nn.init.kaiming_uniform_(layer_in.weight)\n",
        "    layer_in.bias.data.fill_(0.0)"
      ],
      "metadata": {
        "id": "YgLaex1pfhqz"
      },
      "execution_count": 21,
      "outputs": []
    },
    {
      "cell_type": "code",
      "source": [
        "#Define the model\n",
        "model = ResidualNetwork(40, 10)\n",
        "\n",
        "# choose cross entropy loss function (equation 5.24 in the loss notes)\n",
        "loss_function = nn.CrossEntropyLoss()\n",
        "# construct SGD optimizer and initialize learning rate and momentum\n",
        "optimizer = torch.optim.SGD(model.parameters(), lr = 0.05, momentum=0.9)\n",
        "# object that decreases learning rate by half every 20 epochs\n",
        "scheduler = StepLR(optimizer, step_size=20, gamma=0.5)\n",
        "# convert data to torch tensors\n",
        "x_train = torch.tensor(train_data_x.transpose().astype('float32'))\n",
        "y_train = torch.tensor(train_data_y.astype('long'))\n",
        "x_val= torch.tensor(val_data_x.transpose().astype('float32'))\n",
        "y_val = torch.tensor(val_data_y.astype('long'))\n",
        "\n",
        "# load the data into a class that creates the batches\n",
        "data_loader = DataLoader(TensorDataset(x_train,y_train), batch_size=100, shuffle=True, worker_init_fn=np.random.seed(1))\n",
        "\n",
        "# Initialize model weights\n",
        "model.apply(weights_init)\n",
        "\n",
        "# loop over the dataset n_epoch times\n",
        "n_epoch = 100\n",
        "# store the loss and the % correct at each epoch\n",
        "losses_train = np.zeros((n_epoch))\n",
        "errors_train = np.zeros((n_epoch))\n",
        "losses_val = np.zeros((n_epoch))\n",
        "errors_val = np.zeros((n_epoch))\n",
        "\n",
        "for epoch in range(n_epoch):\n",
        "  # loop over batches\n",
        "  for i, data in enumerate(data_loader):\n",
        "    # retrieve inputs and labels for this batch\n",
        "    x_batch, y_batch = data\n",
        "    # zero the parameter gradients\n",
        "    optimizer.zero_grad()\n",
        "    # forward pass -- calculate model output\n",
        "    pred = model(x_batch)\n",
        "    # compute the loss\n",
        "    loss = loss_function(pred, y_batch)\n",
        "    # backward pass\n",
        "    loss.backward()\n",
        "    # SGD update\n",
        "    optimizer.step()\n",
        "\n",
        "  # Run whole dataset to get statistics -- normally wouldn't do this\n",
        "  pred_train = model(x_train)\n",
        "  pred_val = model(x_val)\n",
        "  _, predicted_train_class = torch.max(pred_train.data, 1)\n",
        "  _, predicted_val_class = torch.max(pred_val.data, 1)\n",
        "  errors_train[epoch] = 100 - 100 * (predicted_train_class == y_train).float().sum() / len(y_train)\n",
        "  errors_val[epoch]= 100 - 100 * (predicted_val_class == y_val).float().sum() / len(y_val)\n",
        "  losses_train[epoch] = loss_function(pred_train, y_train).item()\n",
        "  losses_val[epoch]= loss_function(pred_val, y_val).item()\n",
        "  print(f'Epoch {epoch:5d}, train loss {losses_train[epoch]:.6f}, train error {errors_train[epoch]:3.2f},  val loss {losses_val[epoch]:.6f}, percent error {errors_val[epoch]:3.2f}')\n",
        "\n",
        "  # tell scheduler to consider updating learning rate\n",
        "  scheduler.step()"
      ],
      "metadata": {
        "id": "NYw8I_3mmX5c",
        "colab": {
          "base_uri": "https://localhost:8080/"
        },
        "outputId": "dfedd14e-9a92-4e40-83e8-638229595176"
      },
      "execution_count": 22,
      "outputs": [
        {
          "output_type": "stream",
          "name": "stdout",
          "text": [
            "Initialized MLPBase model with 25310 parameters\n",
            "Epoch     0, train loss 1.531131, train error 58.88,  val loss 1.621881, percent error 62.00\n",
            "Epoch     1, train loss 1.167330, train error 44.00,  val loss 1.338728, percent error 52.60\n",
            "Epoch     2, train loss 0.968381, train error 36.72,  val loss 1.220824, percent error 47.20\n",
            "Epoch     3, train loss 0.877772, train error 33.72,  val loss 1.181619, percent error 45.50\n",
            "Epoch     4, train loss 0.804307, train error 29.30,  val loss 1.186559, percent error 44.80\n",
            "Epoch     5, train loss 0.764675, train error 28.18,  val loss 1.227887, percent error 44.60\n",
            "Epoch     6, train loss 0.747166, train error 28.05,  val loss 1.270545, percent error 42.70\n",
            "Epoch     7, train loss 0.589113, train error 22.28,  val loss 1.186888, percent error 42.10\n",
            "Epoch     8, train loss 0.562539, train error 20.43,  val loss 1.315214, percent error 44.40\n",
            "Epoch     9, train loss 0.511421, train error 19.03,  val loss 1.285449, percent error 41.90\n",
            "Epoch    10, train loss 0.579919, train error 21.50,  val loss 1.432870, percent error 40.80\n",
            "Epoch    11, train loss 0.450823, train error 16.55,  val loss 1.364540, percent error 41.20\n",
            "Epoch    12, train loss 0.498765, train error 17.95,  val loss 1.527177, percent error 42.90\n",
            "Epoch    13, train loss 0.431687, train error 16.07,  val loss 1.406201, percent error 39.40\n",
            "Epoch    14, train loss 0.367409, train error 13.47,  val loss 1.476465, percent error 40.80\n",
            "Epoch    15, train loss 0.313344, train error 11.43,  val loss 1.470280, percent error 38.30\n",
            "Epoch    16, train loss 0.353474, train error 12.62,  val loss 1.534590, percent error 38.50\n",
            "Epoch    17, train loss 0.298222, train error 10.20,  val loss 1.489454, percent error 37.50\n",
            "Epoch    18, train loss 0.304405, train error 10.72,  val loss 1.657624, percent error 37.90\n",
            "Epoch    19, train loss 0.274339, train error 9.32,  val loss 1.623960, percent error 35.70\n",
            "Epoch    20, train loss 0.067015, train error 1.47,  val loss 1.443810, percent error 34.30\n",
            "Epoch    21, train loss 0.032133, train error 0.22,  val loss 1.351551, percent error 33.20\n",
            "Epoch    22, train loss 0.018108, train error 0.00,  val loss 1.344703, percent error 33.20\n",
            "Epoch    23, train loss 0.014332, train error 0.00,  val loss 1.346602, percent error 33.60\n",
            "Epoch    24, train loss 0.011799, train error 0.00,  val loss 1.366527, percent error 32.90\n",
            "Epoch    25, train loss 0.010301, train error 0.00,  val loss 1.381263, percent error 33.10\n",
            "Epoch    26, train loss 0.009299, train error 0.00,  val loss 1.385241, percent error 33.30\n",
            "Epoch    27, train loss 0.008406, train error 0.00,  val loss 1.398387, percent error 32.80\n",
            "Epoch    28, train loss 0.007801, train error 0.00,  val loss 1.411159, percent error 33.20\n",
            "Epoch    29, train loss 0.007148, train error 0.00,  val loss 1.418640, percent error 32.60\n",
            "Epoch    30, train loss 0.006677, train error 0.00,  val loss 1.434394, percent error 33.10\n",
            "Epoch    31, train loss 0.006261, train error 0.00,  val loss 1.437077, percent error 33.10\n",
            "Epoch    32, train loss 0.005856, train error 0.00,  val loss 1.449106, percent error 32.90\n",
            "Epoch    33, train loss 0.005528, train error 0.00,  val loss 1.456710, percent error 33.10\n",
            "Epoch    34, train loss 0.005233, train error 0.00,  val loss 1.464194, percent error 33.40\n",
            "Epoch    35, train loss 0.004973, train error 0.00,  val loss 1.473926, percent error 33.20\n",
            "Epoch    36, train loss 0.004734, train error 0.00,  val loss 1.480112, percent error 33.20\n",
            "Epoch    37, train loss 0.004516, train error 0.00,  val loss 1.487645, percent error 33.10\n",
            "Epoch    38, train loss 0.004317, train error 0.00,  val loss 1.493563, percent error 33.00\n",
            "Epoch    39, train loss 0.004149, train error 0.00,  val loss 1.504722, percent error 33.10\n",
            "Epoch    40, train loss 0.004042, train error 0.00,  val loss 1.507018, percent error 33.00\n",
            "Epoch    41, train loss 0.003960, train error 0.00,  val loss 1.508891, percent error 33.00\n",
            "Epoch    42, train loss 0.003884, train error 0.00,  val loss 1.512262, percent error 33.00\n",
            "Epoch    43, train loss 0.003811, train error 0.00,  val loss 1.515620, percent error 33.00\n",
            "Epoch    44, train loss 0.003742, train error 0.00,  val loss 1.519529, percent error 32.90\n",
            "Epoch    45, train loss 0.003668, train error 0.00,  val loss 1.520673, percent error 32.90\n",
            "Epoch    46, train loss 0.003602, train error 0.00,  val loss 1.524050, percent error 32.60\n",
            "Epoch    47, train loss 0.003539, train error 0.00,  val loss 1.527079, percent error 32.60\n",
            "Epoch    48, train loss 0.003477, train error 0.00,  val loss 1.530713, percent error 32.70\n",
            "Epoch    49, train loss 0.003418, train error 0.00,  val loss 1.532080, percent error 32.70\n",
            "Epoch    50, train loss 0.003360, train error 0.00,  val loss 1.536075, percent error 32.70\n",
            "Epoch    51, train loss 0.003304, train error 0.00,  val loss 1.538286, percent error 32.70\n",
            "Epoch    52, train loss 0.003250, train error 0.00,  val loss 1.542389, percent error 32.90\n",
            "Epoch    53, train loss 0.003198, train error 0.00,  val loss 1.543977, percent error 32.70\n",
            "Epoch    54, train loss 0.003147, train error 0.00,  val loss 1.547161, percent error 32.70\n",
            "Epoch    55, train loss 0.003098, train error 0.00,  val loss 1.550402, percent error 32.80\n",
            "Epoch    56, train loss 0.003049, train error 0.00,  val loss 1.552386, percent error 32.60\n",
            "Epoch    57, train loss 0.003003, train error 0.00,  val loss 1.555659, percent error 32.60\n",
            "Epoch    58, train loss 0.002958, train error 0.00,  val loss 1.557558, percent error 32.70\n",
            "Epoch    59, train loss 0.002914, train error 0.00,  val loss 1.560631, percent error 32.70\n",
            "Epoch    60, train loss 0.002892, train error 0.00,  val loss 1.561971, percent error 32.70\n",
            "Epoch    61, train loss 0.002871, train error 0.00,  val loss 1.562801, percent error 32.60\n",
            "Epoch    62, train loss 0.002850, train error 0.00,  val loss 1.564160, percent error 32.50\n",
            "Epoch    63, train loss 0.002829, train error 0.00,  val loss 1.565520, percent error 32.50\n",
            "Epoch    64, train loss 0.002810, train error 0.00,  val loss 1.567079, percent error 32.40\n",
            "Epoch    65, train loss 0.002790, train error 0.00,  val loss 1.567691, percent error 32.40\n",
            "Epoch    66, train loss 0.002770, train error 0.00,  val loss 1.568514, percent error 32.30\n",
            "Epoch    67, train loss 0.002751, train error 0.00,  val loss 1.569780, percent error 32.40\n",
            "Epoch    68, train loss 0.002732, train error 0.00,  val loss 1.571188, percent error 32.40\n",
            "Epoch    69, train loss 0.002713, train error 0.00,  val loss 1.572790, percent error 32.30\n",
            "Epoch    70, train loss 0.002695, train error 0.00,  val loss 1.573465, percent error 32.20\n",
            "Epoch    71, train loss 0.002676, train error 0.00,  val loss 1.574496, percent error 32.20\n",
            "Epoch    72, train loss 0.002658, train error 0.00,  val loss 1.575767, percent error 32.30\n",
            "Epoch    73, train loss 0.002641, train error 0.00,  val loss 1.576860, percent error 32.20\n",
            "Epoch    74, train loss 0.002623, train error 0.00,  val loss 1.578246, percent error 32.30\n",
            "Epoch    75, train loss 0.002606, train error 0.00,  val loss 1.578908, percent error 32.20\n",
            "Epoch    76, train loss 0.002589, train error 0.00,  val loss 1.580146, percent error 32.20\n",
            "Epoch    77, train loss 0.002572, train error 0.00,  val loss 1.581358, percent error 32.20\n",
            "Epoch    78, train loss 0.002555, train error 0.00,  val loss 1.582577, percent error 32.20\n",
            "Epoch    79, train loss 0.002538, train error 0.00,  val loss 1.583254, percent error 32.20\n",
            "Epoch    80, train loss 0.002530, train error 0.00,  val loss 1.584013, percent error 32.20\n",
            "Epoch    81, train loss 0.002522, train error 0.00,  val loss 1.584547, percent error 32.10\n",
            "Epoch    82, train loss 0.002514, train error 0.00,  val loss 1.585210, percent error 32.10\n",
            "Epoch    83, train loss 0.002506, train error 0.00,  val loss 1.585819, percent error 32.00\n",
            "Epoch    84, train loss 0.002498, train error 0.00,  val loss 1.586148, percent error 32.10\n",
            "Epoch    85, train loss 0.002490, train error 0.00,  val loss 1.586554, percent error 32.10\n",
            "Epoch    86, train loss 0.002482, train error 0.00,  val loss 1.587250, percent error 32.10\n",
            "Epoch    87, train loss 0.002474, train error 0.00,  val loss 1.587871, percent error 32.10\n",
            "Epoch    88, train loss 0.002467, train error 0.00,  val loss 1.588242, percent error 32.00\n",
            "Epoch    89, train loss 0.002459, train error 0.00,  val loss 1.589019, percent error 32.00\n",
            "Epoch    90, train loss 0.002451, train error 0.00,  val loss 1.589393, percent error 32.00\n",
            "Epoch    91, train loss 0.002444, train error 0.00,  val loss 1.590124, percent error 32.00\n",
            "Epoch    92, train loss 0.002436, train error 0.00,  val loss 1.590500, percent error 32.00\n",
            "Epoch    93, train loss 0.002428, train error 0.00,  val loss 1.591013, percent error 32.00\n",
            "Epoch    94, train loss 0.002421, train error 0.00,  val loss 1.591619, percent error 32.00\n",
            "Epoch    95, train loss 0.002413, train error 0.00,  val loss 1.592248, percent error 32.00\n",
            "Epoch    96, train loss 0.002406, train error 0.00,  val loss 1.592476, percent error 32.00\n",
            "Epoch    97, train loss 0.002399, train error 0.00,  val loss 1.593022, percent error 32.00\n",
            "Epoch    98, train loss 0.002391, train error 0.00,  val loss 1.593634, percent error 32.10\n",
            "Epoch    99, train loss 0.002384, train error 0.00,  val loss 1.594100, percent error 32.10\n"
          ]
        }
      ]
    },
    {
      "cell_type": "code",
      "source": [
        "# Plot the results\n",
        "fig, ax = plt.subplots()\n",
        "ax.plot(errors_train,'r-',label='train')\n",
        "ax.plot(errors_val,'b-',label='test')\n",
        "ax.set_ylim(0,100); ax.set_xlim(0,n_epoch)\n",
        "ax.set_xlabel('Epoch'); ax.set_ylabel('Error')\n",
        "ax.set_title('TrainError %3.2f, Val Error %3.2f'%(errors_train[-1],errors_val[-1]))\n",
        "ax.legend()\n",
        "plt.show()"
      ],
      "metadata": {
        "id": "CcP_VyEmE2sv",
        "colab": {
          "base_uri": "https://localhost:8080/",
          "height": 472
        },
        "outputId": "925ee9ed-388a-44dd-9357-81b748621ed5"
      },
      "execution_count": 23,
      "outputs": [
        {
          "output_type": "display_data",
          "data": {
            "text/plain": [
              "<Figure size 640x480 with 1 Axes>"
            ],
            "image/png": "[encoded data removed]"
          },
          "metadata": {}
        }
      ]
    },
    {
      "cell_type": "markdown",
      "source": [
        "The primary motivation of residual networks is to allow training of much deeper networks.   \n",
        "\n",
        "TODO: Try running this network with and without the residual connections.  Does adding the residual connections change the performance?"
      ],
      "metadata": {
        "id": "wMmqhmxuAx0M"
      }
    }
  ]
}