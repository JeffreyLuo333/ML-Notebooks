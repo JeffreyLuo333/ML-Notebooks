{
  "nbformat": 4,
  "nbformat_minor": 0,
  "metadata": {
    "colab": {
      "provenance": [],
      "include_colab_link": true
    },
    "kernelspec": {
      "name": "python3",
      "display_name": "Python 3"
    },
    "language_info": {
      "name": "python"
    }
  },
  "cells": [
    {
      "cell_type": "markdown",
      "metadata": {
        "id": "view-in-github",
        "colab_type": "text"
      },
      "source": [
        "<a href=\"https://colab.research.google.com/github/JeffreyLuo333/ML-Notebooks/blob/main/10_5_Convolution_For_MNIST.ipynb\" target=\"_parent\"><img src=\"https://colab.research.google.com/assets/colab-badge.svg\" alt=\"Open In Colab\"/></a>"
      ]
    },
    {
      "cell_type": "markdown",
      "source": [
        "# **Notebook 10.5: Convolution for MNIST**\n",
        "\n",
        "This notebook builds a proper network for 2D convolution.  It works with the MNIST dataset (figure 15.15a), which was the original classic dataset for classifying images.  The network will take a 28x28 grayscale image and classify it into one of 10 classes representing a digit.\n",
        "\n",
        "The code is adapted from https://nextjournal.com/gkoehler/pytorch-mnist\n",
        "\n",
        "Work through the cells below, running each cell in turn. In various places you will see the words \"TO DO\". Follow the instructions at these places and make predictions about what is going to happen or write code to complete the functions.\n",
        "\n",
        "Contact me at udlbookmail@gmail.com if you find any mistakes or have any suggestions.\n"
      ],
      "metadata": {
        "id": "t9vk9Elugvmi"
      }
    },
    {
      "cell_type": "code",
      "source": [
        "import torch\n",
        "import torchvision\n",
        "import torch.nn as nn\n",
        "import torch.nn.functional as F\n",
        "import torch.optim as optim\n",
        "import matplotlib.pyplot as plt\n",
        "import random"
      ],
      "metadata": {
        "id": "YrXWAH7sUWvU"
      },
      "execution_count": 1,
      "outputs": []
    },
    {
      "cell_type": "code",
      "source": [
        "# Run this once to load the train and test data straight into a dataloader class\n",
        "# that will provide the batches\n",
        "\n",
        "# (It may complain that some files are missing because the files seem to have been\n",
        "# reorganized on the underlying website, but it still seems to work). If everything is working\n",
        "# properly, then the whole notebook should run to the end without further problems\n",
        "# even before you make changes.\n",
        "batch_size_train = 64\n",
        "batch_size_test = 1000\n",
        "train_loader = torch.utils.data.DataLoader(\n",
        "  torchvision.datasets.MNIST('/files/', train=True, download=True,\n",
        "                             transform=torchvision.transforms.Compose([\n",
        "                               torchvision.transforms.ToTensor(),\n",
        "                               torchvision.transforms.Normalize(\n",
        "                                 (0.1307,), (0.3081,))\n",
        "                             ])),\n",
        "  batch_size=batch_size_train, shuffle=True)\n",
        "\n",
        "test_loader = torch.utils.data.DataLoader(\n",
        "  torchvision.datasets.MNIST('/files/', train=False, download=True,\n",
        "                             transform=torchvision.transforms.Compose([\n",
        "                               torchvision.transforms.ToTensor(),\n",
        "                               torchvision.transforms.Normalize(\n",
        "                                 (0.1307,), (0.3081,))\n",
        "                             ])),\n",
        "  batch_size=batch_size_test, shuffle=True)"
      ],
      "metadata": {
        "id": "wScBGXXFVadm",
        "colab": {
          "base_uri": "https://localhost:8080/"
        },
        "outputId": "38faf802-2a0d-4962-b60c-30a4e4371333"
      },
      "execution_count": 2,
      "outputs": [
        {
          "output_type": "stream",
          "name": "stdout",
          "text": [
            "Downloading http://yann.lecun.com/exdb/mnist/train-images-idx3-ubyte.gz\n",
            "Failed to download (trying next):\n",
            "<urlopen error [SSL: CERTIFICATE_VERIFY_FAILED] certificate verify failed: certificate has expired (_ssl.c:1007)>\n",
            "\n",
            "Downloading https://ossci-datasets.s3.amazonaws.com/mnist/train-images-idx3-ubyte.gz\n",
            "Downloading https://ossci-datasets.s3.amazonaws.com/mnist/train-images-idx3-ubyte.gz to /files/MNIST/raw/train-images-idx3-ubyte.gz\n"
          ]
        },
        {
          "output_type": "stream",
          "name": "stderr",
          "text": [
            "100%|██████████| 9912422/9912422 [00:00<00:00, 20049280.24it/s]\n"
          ]
        },
        {
          "output_type": "stream",
          "name": "stdout",
          "text": [
            "Extracting /files/MNIST/raw/train-images-idx3-ubyte.gz to /files/MNIST/raw\n",
            "\n",
            "Downloading http://yann.lecun.com/exdb/mnist/train-labels-idx1-ubyte.gz\n",
            "Failed to download (trying next):\n",
            "<urlopen error [SSL: CERTIFICATE_VERIFY_FAILED] certificate verify failed: certificate has expired (_ssl.c:1007)>\n",
            "\n",
            "Downloading https://ossci-datasets.s3.amazonaws.com/mnist/train-labels-idx1-ubyte.gz\n",
            "Downloading https://ossci-datasets.s3.amazonaws.com/mnist/train-labels-idx1-ubyte.gz to /files/MNIST/raw/train-labels-idx1-ubyte.gz\n"
          ]
        },
        {
          "output_type": "stream",
          "name": "stderr",
          "text": [
            "100%|██████████| 28881/28881 [00:00<00:00, 606488.13it/s]\n"
          ]
        },
        {
          "output_type": "stream",
          "name": "stdout",
          "text": [
            "Extracting /files/MNIST/raw/train-labels-idx1-ubyte.gz to /files/MNIST/raw\n",
            "\n",
            "Downloading http://yann.lecun.com/exdb/mnist/t10k-images-idx3-ubyte.gz\n",
            "Failed to download (trying next):\n",
            "<urlopen error [SSL: CERTIFICATE_VERIFY_FAILED] certificate verify failed: certificate has expired (_ssl.c:1007)>\n",
            "\n",
            "Downloading https://ossci-datasets.s3.amazonaws.com/mnist/t10k-images-idx3-ubyte.gz\n",
            "Downloading https://ossci-datasets.s3.amazonaws.com/mnist/t10k-images-idx3-ubyte.gz to /files/MNIST/raw/t10k-images-idx3-ubyte.gz\n"
          ]
        },
        {
          "output_type": "stream",
          "name": "stderr",
          "text": [
            "100%|██████████| 1648877/1648877 [00:00<00:00, 5422842.00it/s]\n"
          ]
        },
        {
          "output_type": "stream",
          "name": "stdout",
          "text": [
            "Extracting /files/MNIST/raw/t10k-images-idx3-ubyte.gz to /files/MNIST/raw\n",
            "\n",
            "Downloading http://yann.lecun.com/exdb/mnist/t10k-labels-idx1-ubyte.gz\n",
            "Failed to download (trying next):\n",
            "<urlopen error [SSL: CERTIFICATE_VERIFY_FAILED] certificate verify failed: certificate has expired (_ssl.c:1007)>\n",
            "\n",
            "Downloading https://ossci-datasets.s3.amazonaws.com/mnist/t10k-labels-idx1-ubyte.gz\n",
            "Downloading https://ossci-datasets.s3.amazonaws.com/mnist/t10k-labels-idx1-ubyte.gz to /files/MNIST/raw/t10k-labels-idx1-ubyte.gz\n"
          ]
        },
        {
          "output_type": "stream",
          "name": "stderr",
          "text": [
            "100%|██████████| 4542/4542 [00:00<00:00, 2772599.15it/s]"
          ]
        },
        {
          "output_type": "stream",
          "name": "stdout",
          "text": [
            "Extracting /files/MNIST/raw/t10k-labels-idx1-ubyte.gz to /files/MNIST/raw\n",
            "\n"
          ]
        },
        {
          "output_type": "stream",
          "name": "stderr",
          "text": [
            "\n"
          ]
        }
      ]
    },
    {
      "cell_type": "code",
      "source": [],
      "metadata": {
        "id": "YGwbxJDEm88i"
      },
      "execution_count": null,
      "outputs": []
    },
    {
      "cell_type": "code",
      "source": [
        "# Let's draw some of the training data\n",
        "examples = enumerate(test_loader)\n",
        "batch_idx, (example_data, example_targets) = next(examples)\n",
        "\n",
        "fig = plt.figure()\n",
        "for i in range(6):\n",
        "  plt.subplot(2,3,i+1)\n",
        "  plt.tight_layout()\n",
        "  plt.imshow(example_data[i][0], cmap='gray', interpolation='none')\n",
        "  plt.title(\"Ground Truth: {}\".format(example_targets[i]))\n",
        "  plt.xticks([])\n",
        "  plt.yticks([])\n",
        "plt.show()"
      ],
      "metadata": {
        "id": "8bKADvLHbiV5",
        "colab": {
          "base_uri": "https://localhost:8080/",
          "height": 438
        },
        "outputId": "541fb900-9b89-400a-dcef-87f14fd224d8"
      },
      "execution_count": 3,
      "outputs": [
        {
          "output_type": "display_data",
          "data": {
            "text/plain": [
              "<Figure size 640x480 with 6 Axes>"
            ],
            "image/png": "[encoded data removed]"
          },
          "metadata": {}
        }
      ]
    },
    {
      "cell_type": "markdown",
      "source": [
        "Define the network.  This is a more typical way to define a network than the sequential structure.  We define a class for the network, and define the parameters in the constructor.  Then we use a function called forward to actually run the network.  It's easy to see how you might use residual connections in this format."
      ],
      "metadata": {
        "id": "_sFvRDGrl4qe"
      }
    },
    {
      "cell_type": "code",
      "source": [
        "from os import X_OK\n",
        "# TODO Change this class to implement\n",
        "# 1. A valid convolution with kernel size 5, 1 input channel and 10 output channels\n",
        "# 2. A max pooling operation over a 2x2 area\n",
        "# 3. A Relu\n",
        "# 4. A valid convolution with kernel size 5, 10 input channels and 20 output channels\n",
        "# 5. A 2D Dropout layer\n",
        "# 6. A max pooling operation over a 2x2 area\n",
        "# 7. A relu\n",
        "# 8. A flattening operation\n",
        "# 9. A fully connected layer mapping from (whatever dimensions we are at-- find out using .shape) to 50\n",
        "# 10. A ReLU\n",
        "# 11. A fully connected layer mapping from 50 to 10 dimensions\n",
        "# 12. A softmax function.\n",
        "\n",
        "# Replace this class which implements a minimal network (which still does okay)\n",
        "class Net(nn.Module):\n",
        "    def __init__(self):\n",
        "        super(Net, self).__init__()\n",
        "        # Valid convolution, 1 channel in, 2 channels out, stride 1, kernel size = 3\n",
        "        self.conv1 = nn.Conv2d(1, 10, kernel_size=5)\n",
        "        self.conv2 = nn.Conv2d(10,20,5)\n",
        "        # Dropout for convolutions\n",
        "        self.drop = nn.Dropout2d()\n",
        "        # Fully connected layer\n",
        "        self.fc1 = None\n",
        "        self.fc2 = nn.Linear(50,10)\n",
        "\n",
        "    def forward(self, x):\n",
        "        x = self.conv1(x)\n",
        "        x = F.max_pool2d(x,2)\n",
        "        x = F.relu(x)\n",
        "        x = self.conv2(x)\n",
        "        x = self.drop(x)\n",
        "        x = F.max_pool2d(x,2)\n",
        "        x = F.relu(x)\n",
        "        x = x.flatten(1)\n",
        "        x = x.view(x.size(0), -1)\n",
        "\n",
        "        # Initialize the first fully connected layer dynamically if it is not already defined\n",
        "        if self.fc1 is None:\n",
        "            self.fc1 = nn.Linear(x.shape[1], 50)\n",
        "            # Move the newly created layer to the correct device\n",
        "            self.fc1.to(x.device)\n",
        "        x = F.relu(self.fc1(x))\n",
        "        x = self.fc2(x)\n",
        "        x = F.log_softmax(x)\n",
        "        return x\n",
        "\n",
        "\n",
        "\n",
        "\n"
      ],
      "metadata": {
        "id": "EQkvw2KOPVl7"
      },
      "execution_count": 11,
      "outputs": []
    },
    {
      "cell_type": "code",
      "source": [
        "# He initialization of weights\n",
        "def weights_init(layer_in):\n",
        "  if isinstance(layer_in, nn.Linear):\n",
        "    nn.init.kaiming_uniform_(layer_in.weight)\n",
        "    layer_in.bias.data.fill_(0.0)"
      ],
      "metadata": {
        "id": "qWZtkCZcU_dg"
      },
      "execution_count": 5,
      "outputs": []
    },
    {
      "cell_type": "code",
      "source": [
        "# Create network\n",
        "model = Net()\n",
        "# Initialize model weights\n",
        "model.apply(weights_init)\n",
        "# Define optimizer\n",
        "optimizer = optim.SGD(model.parameters(), lr=0.01, momentum=0.5)"
      ],
      "metadata": {
        "id": "FslroPJJffrh"
      },
      "execution_count": 12,
      "outputs": []
    },
    {
      "cell_type": "code",
      "source": [
        "# Main training routine\n",
        "def train(epoch):\n",
        "  model.train()\n",
        "  # Get each\n",
        "  for batch_idx, (data, target) in enumerate(train_loader):\n",
        "    optimizer.zero_grad()\n",
        "    output = model(data)\n",
        "    loss = F.nll_loss(output, target)\n",
        "    loss.backward()\n",
        "    optimizer.step()\n",
        "    # Store results\n",
        "    if batch_idx % 10 == 0:\n",
        "      print('Train Epoch: {} [{}/{}]\\tLoss: {:.6f}'.format(\n",
        "        epoch, batch_idx * len(data), len(train_loader.dataset), loss.item()))"
      ],
      "metadata": {
        "id": "xKQd9PzkQ766"
      },
      "execution_count": 13,
      "outputs": []
    },
    {
      "cell_type": "code",
      "source": [
        "# Run on test data\n",
        "def test():\n",
        "  model.eval()\n",
        "  test_loss = 0\n",
        "  correct = 0\n",
        "  with torch.no_grad():\n",
        "    for data, target in test_loader:\n",
        "      output = model(data)\n",
        "      test_loss += F.nll_loss(output, target, size_average=False).item()\n",
        "      pred = output.data.max(1, keepdim=True)[1]\n",
        "      correct += pred.eq(target.data.view_as(pred)).sum()\n",
        "  test_loss /= len(test_loader.dataset)\n",
        "  print('\\nTest set: Avg. loss: {:.4f}, Accuracy: {}/{} ({:.0f}%)\\n'.format(\n",
        "    test_loss, correct, len(test_loader.dataset),\n",
        "    100. * correct / len(test_loader.dataset)))"
      ],
      "metadata": {
        "id": "Byn-f7qWRLxX"
      },
      "execution_count": 14,
      "outputs": []
    },
    {
      "cell_type": "code",
      "source": [
        "# Get initial performance\n",
        "test()\n",
        "# Train for three epochs\n",
        "n_epochs = 3\n",
        "for epoch in range(1, n_epochs + 1):\n",
        "  train(epoch)\n",
        "  test()"
      ],
      "metadata": {
        "id": "YgLaex1pfhqz",
        "colab": {
          "base_uri": "https://localhost:8080/"
        },
        "outputId": "f1a9754c-9476-4504-c237-787221531d4c"
      },
      "execution_count": 15,
      "outputs": [
        {
          "output_type": "stream",
          "name": "stderr",
          "text": [
            "<ipython-input-11-1434969e45f8>:47: UserWarning: Implicit dimension choice for log_softmax has been deprecated. Change the call to include dim=X as an argument.\n",
            "  x = F.log_softmax(x)\n",
            "/usr/local/lib/python3.10/dist-packages/torch/nn/_reduction.py:42: UserWarning: size_average and reduce args will be deprecated, please use reduction='sum' instead.\n",
            "  warnings.warn(warning.format(ret))\n"
          ]
        },
        {
          "output_type": "stream",
          "name": "stdout",
          "text": [
            "\n",
            "Test set: Avg. loss: 2.3212, Accuracy: 1685/10000 (17%)\n",
            "\n",
            "Train Epoch: 1 [0/60000]\tLoss: 2.344136\n",
            "Train Epoch: 1 [640/60000]\tLoss: 2.320493\n",
            "Train Epoch: 1 [1280/60000]\tLoss: 2.257658\n",
            "Train Epoch: 1 [1920/60000]\tLoss: 2.280977\n",
            "Train Epoch: 1 [2560/60000]\tLoss: 2.264119\n",
            "Train Epoch: 1 [3200/60000]\tLoss: 2.271806\n",
            "Train Epoch: 1 [3840/60000]\tLoss: 2.216911\n",
            "Train Epoch: 1 [4480/60000]\tLoss: 2.197733\n",
            "Train Epoch: 1 [5120/60000]\tLoss: 2.175404\n",
            "Train Epoch: 1 [5760/60000]\tLoss: 2.153474\n",
            "Train Epoch: 1 [6400/60000]\tLoss: 2.095408\n",
            "Train Epoch: 1 [7040/60000]\tLoss: 2.122170\n",
            "Train Epoch: 1 [7680/60000]\tLoss: 2.107901\n",
            "Train Epoch: 1 [8320/60000]\tLoss: 1.953219\n",
            "Train Epoch: 1 [8960/60000]\tLoss: 1.974405\n",
            "Train Epoch: 1 [9600/60000]\tLoss: 1.870272\n",
            "Train Epoch: 1 [10240/60000]\tLoss: 1.923394\n",
            "Train Epoch: 1 [10880/60000]\tLoss: 1.871077\n",
            "Train Epoch: 1 [11520/60000]\tLoss: 1.816903\n",
            "Train Epoch: 1 [12160/60000]\tLoss: 1.599962\n",
            "Train Epoch: 1 [12800/60000]\tLoss: 1.647530\n",
            "Train Epoch: 1 [13440/60000]\tLoss: 1.702140\n",
            "Train Epoch: 1 [14080/60000]\tLoss: 1.705983\n",
            "Train Epoch: 1 [14720/60000]\tLoss: 1.398460\n",
            "Train Epoch: 1 [15360/60000]\tLoss: 1.688346\n",
            "Train Epoch: 1 [16000/60000]\tLoss: 1.499553\n",
            "Train Epoch: 1 [16640/60000]\tLoss: 1.473529\n",
            "Train Epoch: 1 [17280/60000]\tLoss: 1.309607\n",
            "Train Epoch: 1 [17920/60000]\tLoss: 1.327806\n",
            "Train Epoch: 1 [18560/60000]\tLoss: 1.536887\n",
            "Train Epoch: 1 [19200/60000]\tLoss: 1.284561\n",
            "Train Epoch: 1 [19840/60000]\tLoss: 1.260459\n",
            "Train Epoch: 1 [20480/60000]\tLoss: 1.432788\n",
            "Train Epoch: 1 [21120/60000]\tLoss: 1.168331\n",
            "Train Epoch: 1 [21760/60000]\tLoss: 1.240328\n",
            "Train Epoch: 1 [22400/60000]\tLoss: 0.978461\n",
            "Train Epoch: 1 [23040/60000]\tLoss: 1.351041\n",
            "Train Epoch: 1 [23680/60000]\tLoss: 1.121059\n",
            "Train Epoch: 1 [24320/60000]\tLoss: 1.225219\n",
            "Train Epoch: 1 [24960/60000]\tLoss: 1.107449\n",
            "Train Epoch: 1 [25600/60000]\tLoss: 1.242096\n",
            "Train Epoch: 1 [26240/60000]\tLoss: 0.931508\n",
            "Train Epoch: 1 [26880/60000]\tLoss: 1.090616\n",
            "Train Epoch: 1 [27520/60000]\tLoss: 0.906193\n",
            "Train Epoch: 1 [28160/60000]\tLoss: 1.087500\n",
            "Train Epoch: 1 [28800/60000]\tLoss: 1.049127\n",
            "Train Epoch: 1 [29440/60000]\tLoss: 0.838438\n",
            "Train Epoch: 1 [30080/60000]\tLoss: 0.865980\n",
            "Train Epoch: 1 [30720/60000]\tLoss: 1.029066\n",
            "Train Epoch: 1 [31360/60000]\tLoss: 1.051795\n",
            "Train Epoch: 1 [32000/60000]\tLoss: 1.015220\n",
            "Train Epoch: 1 [32640/60000]\tLoss: 0.942304\n",
            "Train Epoch: 1 [33280/60000]\tLoss: 1.027311\n",
            "Train Epoch: 1 [33920/60000]\tLoss: 1.271878\n",
            "Train Epoch: 1 [34560/60000]\tLoss: 0.991332\n",
            "Train Epoch: 1 [35200/60000]\tLoss: 0.883271\n",
            "Train Epoch: 1 [35840/60000]\tLoss: 1.096331\n",
            "Train Epoch: 1 [36480/60000]\tLoss: 0.645366\n",
            "Train Epoch: 1 [37120/60000]\tLoss: 0.933255\n",
            "Train Epoch: 1 [37760/60000]\tLoss: 0.730130\n",
            "Train Epoch: 1 [38400/60000]\tLoss: 0.930238\n",
            "Train Epoch: 1 [39040/60000]\tLoss: 0.900170\n",
            "Train Epoch: 1 [39680/60000]\tLoss: 0.834012\n",
            "Train Epoch: 1 [40320/60000]\tLoss: 0.903691\n",
            "Train Epoch: 1 [40960/60000]\tLoss: 0.812427\n",
            "Train Epoch: 1 [41600/60000]\tLoss: 0.725453\n",
            "Train Epoch: 1 [42240/60000]\tLoss: 0.627302\n",
            "Train Epoch: 1 [42880/60000]\tLoss: 0.766755\n",
            "Train Epoch: 1 [43520/60000]\tLoss: 0.879694\n",
            "Train Epoch: 1 [44160/60000]\tLoss: 0.698487\n",
            "Train Epoch: 1 [44800/60000]\tLoss: 0.805308\n",
            "Train Epoch: 1 [45440/60000]\tLoss: 0.921308\n",
            "Train Epoch: 1 [46080/60000]\tLoss: 0.680096\n",
            "Train Epoch: 1 [46720/60000]\tLoss: 0.647193\n",
            "Train Epoch: 1 [47360/60000]\tLoss: 0.780226\n",
            "Train Epoch: 1 [48000/60000]\tLoss: 0.670519\n",
            "Train Epoch: 1 [48640/60000]\tLoss: 0.909225\n",
            "Train Epoch: 1 [49280/60000]\tLoss: 0.791029\n",
            "Train Epoch: 1 [49920/60000]\tLoss: 0.571790\n",
            "Train Epoch: 1 [50560/60000]\tLoss: 0.810130\n",
            "Train Epoch: 1 [51200/60000]\tLoss: 0.790222\n",
            "Train Epoch: 1 [51840/60000]\tLoss: 0.638691\n",
            "Train Epoch: 1 [52480/60000]\tLoss: 0.731522\n",
            "Train Epoch: 1 [53120/60000]\tLoss: 0.926712\n",
            "Train Epoch: 1 [53760/60000]\tLoss: 0.525867\n",
            "Train Epoch: 1 [54400/60000]\tLoss: 0.455405\n",
            "Train Epoch: 1 [55040/60000]\tLoss: 0.580722\n",
            "Train Epoch: 1 [55680/60000]\tLoss: 0.526737\n",
            "Train Epoch: 1 [56320/60000]\tLoss: 0.604111\n",
            "Train Epoch: 1 [56960/60000]\tLoss: 0.666767\n",
            "Train Epoch: 1 [57600/60000]\tLoss: 0.689569\n",
            "Train Epoch: 1 [58240/60000]\tLoss: 0.774701\n",
            "Train Epoch: 1 [58880/60000]\tLoss: 0.656004\n",
            "Train Epoch: 1 [59520/60000]\tLoss: 0.633428\n",
            "\n",
            "Test set: Avg. loss: 0.3269, Accuracy: 9082/10000 (91%)\n",
            "\n",
            "Train Epoch: 2 [0/60000]\tLoss: 0.702177\n",
            "Train Epoch: 2 [640/60000]\tLoss: 0.556377\n",
            "Train Epoch: 2 [1280/60000]\tLoss: 0.983229\n",
            "Train Epoch: 2 [1920/60000]\tLoss: 0.528457\n",
            "Train Epoch: 2 [2560/60000]\tLoss: 0.601565\n",
            "Train Epoch: 2 [3200/60000]\tLoss: 0.469390\n",
            "Train Epoch: 2 [3840/60000]\tLoss: 0.774638\n",
            "Train Epoch: 2 [4480/60000]\tLoss: 0.682425\n",
            "Train Epoch: 2 [5120/60000]\tLoss: 0.568727\n",
            "Train Epoch: 2 [5760/60000]\tLoss: 0.676392\n",
            "Train Epoch: 2 [6400/60000]\tLoss: 0.555836\n",
            "Train Epoch: 2 [7040/60000]\tLoss: 0.492992\n",
            "Train Epoch: 2 [7680/60000]\tLoss: 0.540828\n",
            "Train Epoch: 2 [8320/60000]\tLoss: 0.770736\n",
            "Train Epoch: 2 [8960/60000]\tLoss: 0.808740\n",
            "Train Epoch: 2 [9600/60000]\tLoss: 0.484987\n",
            "Train Epoch: 2 [10240/60000]\tLoss: 0.620544\n",
            "Train Epoch: 2 [10880/60000]\tLoss: 0.669554\n",
            "Train Epoch: 2 [11520/60000]\tLoss: 0.747643\n",
            "Train Epoch: 2 [12160/60000]\tLoss: 0.448952\n",
            "Train Epoch: 2 [12800/60000]\tLoss: 0.611536\n",
            "Train Epoch: 2 [13440/60000]\tLoss: 0.609746\n",
            "Train Epoch: 2 [14080/60000]\tLoss: 0.378128\n",
            "Train Epoch: 2 [14720/60000]\tLoss: 0.453126\n",
            "Train Epoch: 2 [15360/60000]\tLoss: 0.427791\n",
            "Train Epoch: 2 [16000/60000]\tLoss: 0.481642\n",
            "Train Epoch: 2 [16640/60000]\tLoss: 0.480718\n",
            "Train Epoch: 2 [17280/60000]\tLoss: 0.677869\n",
            "Train Epoch: 2 [17920/60000]\tLoss: 0.613346\n",
            "Train Epoch: 2 [18560/60000]\tLoss: 0.477870\n",
            "Train Epoch: 2 [19200/60000]\tLoss: 0.783652\n",
            "Train Epoch: 2 [19840/60000]\tLoss: 0.588777\n",
            "Train Epoch: 2 [20480/60000]\tLoss: 0.482745\n",
            "Train Epoch: 2 [21120/60000]\tLoss: 0.488486\n",
            "Train Epoch: 2 [21760/60000]\tLoss: 0.467117\n",
            "Train Epoch: 2 [22400/60000]\tLoss: 0.600268\n",
            "Train Epoch: 2 [23040/60000]\tLoss: 0.693491\n",
            "Train Epoch: 2 [23680/60000]\tLoss: 0.379194\n",
            "Train Epoch: 2 [24320/60000]\tLoss: 0.505073\n",
            "Train Epoch: 2 [24960/60000]\tLoss: 0.620582\n",
            "Train Epoch: 2 [25600/60000]\tLoss: 0.370932\n",
            "Train Epoch: 2 [26240/60000]\tLoss: 0.821379\n",
            "Train Epoch: 2 [26880/60000]\tLoss: 0.416704\n",
            "Train Epoch: 2 [27520/60000]\tLoss: 0.545448\n",
            "Train Epoch: 2 [28160/60000]\tLoss: 0.399120\n",
            "Train Epoch: 2 [28800/60000]\tLoss: 0.457749\n",
            "Train Epoch: 2 [29440/60000]\tLoss: 0.641355\n",
            "Train Epoch: 2 [30080/60000]\tLoss: 0.336925\n",
            "Train Epoch: 2 [30720/60000]\tLoss: 0.462655\n",
            "Train Epoch: 2 [31360/60000]\tLoss: 0.595328\n",
            "Train Epoch: 2 [32000/60000]\tLoss: 0.556487\n",
            "Train Epoch: 2 [32640/60000]\tLoss: 0.343375\n",
            "Train Epoch: 2 [33280/60000]\tLoss: 0.293500\n",
            "Train Epoch: 2 [33920/60000]\tLoss: 0.475496\n",
            "Train Epoch: 2 [34560/60000]\tLoss: 0.618325\n",
            "Train Epoch: 2 [35200/60000]\tLoss: 0.589224\n",
            "Train Epoch: 2 [35840/60000]\tLoss: 0.795754\n",
            "Train Epoch: 2 [36480/60000]\tLoss: 0.473208\n",
            "Train Epoch: 2 [37120/60000]\tLoss: 0.614966\n",
            "Train Epoch: 2 [37760/60000]\tLoss: 0.590652\n",
            "Train Epoch: 2 [38400/60000]\tLoss: 0.703236\n",
            "Train Epoch: 2 [39040/60000]\tLoss: 0.583916\n",
            "Train Epoch: 2 [39680/60000]\tLoss: 0.312734\n",
            "Train Epoch: 2 [40320/60000]\tLoss: 0.453229\n",
            "Train Epoch: 2 [40960/60000]\tLoss: 0.478774\n",
            "Train Epoch: 2 [41600/60000]\tLoss: 0.763961\n",
            "Train Epoch: 2 [42240/60000]\tLoss: 0.530863\n",
            "Train Epoch: 2 [42880/60000]\tLoss: 0.460063\n",
            "Train Epoch: 2 [43520/60000]\tLoss: 0.481147\n",
            "Train Epoch: 2 [44160/60000]\tLoss: 0.393348\n",
            "Train Epoch: 2 [44800/60000]\tLoss: 0.234009\n",
            "Train Epoch: 2 [45440/60000]\tLoss: 0.367683\n",
            "Train Epoch: 2 [46080/60000]\tLoss: 0.490125\n",
            "Train Epoch: 2 [46720/60000]\tLoss: 0.433346\n",
            "Train Epoch: 2 [47360/60000]\tLoss: 0.440484\n",
            "Train Epoch: 2 [48000/60000]\tLoss: 0.545366\n",
            "Train Epoch: 2 [48640/60000]\tLoss: 0.344294\n",
            "Train Epoch: 2 [49280/60000]\tLoss: 0.445099\n",
            "Train Epoch: 2 [49920/60000]\tLoss: 0.444648\n",
            "Train Epoch: 2 [50560/60000]\tLoss: 0.493116\n",
            "Train Epoch: 2 [51200/60000]\tLoss: 0.599355\n",
            "Train Epoch: 2 [51840/60000]\tLoss: 0.469292\n",
            "Train Epoch: 2 [52480/60000]\tLoss: 0.670951\n",
            "Train Epoch: 2 [53120/60000]\tLoss: 0.539316\n",
            "Train Epoch: 2 [53760/60000]\tLoss: 0.476296\n",
            "Train Epoch: 2 [54400/60000]\tLoss: 0.436487\n",
            "Train Epoch: 2 [55040/60000]\tLoss: 0.525634\n",
            "Train Epoch: 2 [55680/60000]\tLoss: 0.669197\n",
            "Train Epoch: 2 [56320/60000]\tLoss: 0.363535\n",
            "Train Epoch: 2 [56960/60000]\tLoss: 0.454637\n",
            "Train Epoch: 2 [57600/60000]\tLoss: 0.316245\n",
            "Train Epoch: 2 [58240/60000]\tLoss: 0.277123\n",
            "Train Epoch: 2 [58880/60000]\tLoss: 0.520356\n",
            "Train Epoch: 2 [59520/60000]\tLoss: 0.436999\n",
            "\n",
            "Test set: Avg. loss: 0.2235, Accuracy: 9360/10000 (94%)\n",
            "\n",
            "Train Epoch: 3 [0/60000]\tLoss: 0.417559\n",
            "Train Epoch: 3 [640/60000]\tLoss: 0.265409\n",
            "Train Epoch: 3 [1280/60000]\tLoss: 0.333716\n",
            "Train Epoch: 3 [1920/60000]\tLoss: 0.490170\n",
            "Train Epoch: 3 [2560/60000]\tLoss: 0.440502\n",
            "Train Epoch: 3 [3200/60000]\tLoss: 0.488982\n",
            "Train Epoch: 3 [3840/60000]\tLoss: 0.581489\n",
            "Train Epoch: 3 [4480/60000]\tLoss: 0.533131\n",
            "Train Epoch: 3 [5120/60000]\tLoss: 0.514128\n",
            "Train Epoch: 3 [5760/60000]\tLoss: 0.649696\n",
            "Train Epoch: 3 [6400/60000]\tLoss: 0.449317\n",
            "Train Epoch: 3 [7040/60000]\tLoss: 0.606115\n",
            "Train Epoch: 3 [7680/60000]\tLoss: 0.458788\n",
            "Train Epoch: 3 [8320/60000]\tLoss: 0.377238\n",
            "Train Epoch: 3 [8960/60000]\tLoss: 0.637904\n",
            "Train Epoch: 3 [9600/60000]\tLoss: 0.703036\n",
            "Train Epoch: 3 [10240/60000]\tLoss: 0.653368\n",
            "Train Epoch: 3 [10880/60000]\tLoss: 0.523982\n",
            "Train Epoch: 3 [11520/60000]\tLoss: 0.497717\n",
            "Train Epoch: 3 [12160/60000]\tLoss: 0.329646\n",
            "Train Epoch: 3 [12800/60000]\tLoss: 0.393941\n",
            "Train Epoch: 3 [13440/60000]\tLoss: 0.372232\n",
            "Train Epoch: 3 [14080/60000]\tLoss: 0.421913\n",
            "Train Epoch: 3 [14720/60000]\tLoss: 0.375410\n",
            "Train Epoch: 3 [15360/60000]\tLoss: 0.545858\n",
            "Train Epoch: 3 [16000/60000]\tLoss: 0.352607\n",
            "Train Epoch: 3 [16640/60000]\tLoss: 0.362164\n",
            "Train Epoch: 3 [17280/60000]\tLoss: 0.275228\n",
            "Train Epoch: 3 [17920/60000]\tLoss: 0.592023\n",
            "Train Epoch: 3 [18560/60000]\tLoss: 0.463687\n",
            "Train Epoch: 3 [19200/60000]\tLoss: 0.600446\n",
            "Train Epoch: 3 [19840/60000]\tLoss: 0.662241\n",
            "Train Epoch: 3 [20480/60000]\tLoss: 0.429434\n",
            "Train Epoch: 3 [21120/60000]\tLoss: 0.445377\n",
            "Train Epoch: 3 [21760/60000]\tLoss: 0.701227\n",
            "Train Epoch: 3 [22400/60000]\tLoss: 0.476039\n",
            "Train Epoch: 3 [23040/60000]\tLoss: 0.324159\n",
            "Train Epoch: 3 [23680/60000]\tLoss: 0.392379\n",
            "Train Epoch: 3 [24320/60000]\tLoss: 0.329134\n",
            "Train Epoch: 3 [24960/60000]\tLoss: 0.306066\n",
            "Train Epoch: 3 [25600/60000]\tLoss: 0.525593\n",
            "Train Epoch: 3 [26240/60000]\tLoss: 0.386561\n",
            "Train Epoch: 3 [26880/60000]\tLoss: 0.394009\n",
            "Train Epoch: 3 [27520/60000]\tLoss: 0.443625\n",
            "Train Epoch: 3 [28160/60000]\tLoss: 0.396783\n",
            "Train Epoch: 3 [28800/60000]\tLoss: 0.325820\n",
            "Train Epoch: 3 [29440/60000]\tLoss: 0.366590\n",
            "Train Epoch: 3 [30080/60000]\tLoss: 0.518065\n",
            "Train Epoch: 3 [30720/60000]\tLoss: 0.549428\n",
            "Train Epoch: 3 [31360/60000]\tLoss: 0.490293\n",
            "Train Epoch: 3 [32000/60000]\tLoss: 0.483328\n",
            "Train Epoch: 3 [32640/60000]\tLoss: 0.261075\n",
            "Train Epoch: 3 [33280/60000]\tLoss: 0.489651\n",
            "Train Epoch: 3 [33920/60000]\tLoss: 0.517429\n",
            "Train Epoch: 3 [34560/60000]\tLoss: 0.477237\n",
            "Train Epoch: 3 [35200/60000]\tLoss: 0.369417\n",
            "Train Epoch: 3 [35840/60000]\tLoss: 0.361636\n",
            "Train Epoch: 3 [36480/60000]\tLoss: 0.212004\n",
            "Train Epoch: 3 [37120/60000]\tLoss: 0.581479\n",
            "Train Epoch: 3 [37760/60000]\tLoss: 0.362365\n",
            "Train Epoch: 3 [38400/60000]\tLoss: 0.353992\n",
            "Train Epoch: 3 [39040/60000]\tLoss: 0.662270\n",
            "Train Epoch: 3 [39680/60000]\tLoss: 0.446293\n",
            "Train Epoch: 3 [40320/60000]\tLoss: 0.285137\n",
            "Train Epoch: 3 [40960/60000]\tLoss: 0.364315\n",
            "Train Epoch: 3 [41600/60000]\tLoss: 0.433259\n",
            "Train Epoch: 3 [42240/60000]\tLoss: 0.563218\n",
            "Train Epoch: 3 [42880/60000]\tLoss: 0.360641\n",
            "Train Epoch: 3 [43520/60000]\tLoss: 0.551463\n",
            "Train Epoch: 3 [44160/60000]\tLoss: 0.362266\n",
            "Train Epoch: 3 [44800/60000]\tLoss: 0.333581\n",
            "Train Epoch: 3 [45440/60000]\tLoss: 0.443594\n",
            "Train Epoch: 3 [46080/60000]\tLoss: 0.640748\n",
            "Train Epoch: 3 [46720/60000]\tLoss: 0.195366\n",
            "Train Epoch: 3 [47360/60000]\tLoss: 0.361384\n",
            "Train Epoch: 3 [48000/60000]\tLoss: 0.259995\n",
            "Train Epoch: 3 [48640/60000]\tLoss: 0.721789\n",
            "Train Epoch: 3 [49280/60000]\tLoss: 0.446584\n",
            "Train Epoch: 3 [49920/60000]\tLoss: 0.575640\n",
            "Train Epoch: 3 [50560/60000]\tLoss: 0.360686\n",
            "Train Epoch: 3 [51200/60000]\tLoss: 0.313905\n",
            "Train Epoch: 3 [51840/60000]\tLoss: 0.576778\n",
            "Train Epoch: 3 [52480/60000]\tLoss: 0.382098\n",
            "Train Epoch: 3 [53120/60000]\tLoss: 0.399734\n",
            "Train Epoch: 3 [53760/60000]\tLoss: 0.450331\n",
            "Train Epoch: 3 [54400/60000]\tLoss: 0.323940\n",
            "Train Epoch: 3 [55040/60000]\tLoss: 0.357058\n",
            "Train Epoch: 3 [55680/60000]\tLoss: 0.581099\n",
            "Train Epoch: 3 [56320/60000]\tLoss: 0.662808\n",
            "Train Epoch: 3 [56960/60000]\tLoss: 0.267721\n",
            "Train Epoch: 3 [57600/60000]\tLoss: 0.273500\n",
            "Train Epoch: 3 [58240/60000]\tLoss: 0.453507\n",
            "Train Epoch: 3 [58880/60000]\tLoss: 0.336893\n",
            "Train Epoch: 3 [59520/60000]\tLoss: 0.283652\n",
            "\n",
            "Test set: Avg. loss: 0.1787, Accuracy: 9469/10000 (95%)\n",
            "\n"
          ]
        }
      ]
    },
    {
      "cell_type": "code",
      "source": [
        "# Run network on data we got before and show predictions\n",
        "output = model(example_data)\n",
        "\n",
        "fig = plt.figure()\n",
        "for i in range(10):\n",
        "  plt.subplot(5,5,i+1)\n",
        "  plt.tight_layout()\n",
        "  plt.imshow(example_data[i][0], cmap='gray', interpolation='none')\n",
        "  plt.title(\"Prediction: {}\".format(\n",
        "    output.data.max(1, keepdim=True)[1][i].item()))\n",
        "  plt.xticks([])\n",
        "  plt.yticks([])\n",
        "plt.show()"
      ],
      "metadata": {
        "id": "o7fRUAy9Se1B",
        "colab": {
          "base_uri": "https://localhost:8080/",
          "height": 242
        },
        "outputId": "e49b5595-be80-4192-ccca-c545abd66447"
      },
      "execution_count": 16,
      "outputs": [
        {
          "output_type": "stream",
          "name": "stderr",
          "text": [
            "<ipython-input-11-1434969e45f8>:47: UserWarning: Implicit dimension choice for log_softmax has been deprecated. Change the call to include dim=X as an argument.\n",
            "  x = F.log_softmax(x)\n"
          ]
        },
        {
          "output_type": "display_data",
          "data": {
            "text/plain": [
              "<Figure size 640x480 with 10 Axes>"
            ],
            "image/png": "[encoded data removed]"
          },
          "metadata": {}
        }
      ]
    }
  ]
}